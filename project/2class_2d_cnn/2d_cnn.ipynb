{
 "cells": [
  {
   "cell_type": "code",
   "execution_count": 1,
   "id": "3e08e8a0",
   "metadata": {},
   "outputs": [],
   "source": [
    "import numpy as np  \n",
    "import pandas as pd  \n",
    "from keras.utils import np_utils\n",
    "import os\n",
    "import matplotlib.pyplot as plt\n",
    "import seaborn as sns\n",
    "import cv2\n",
    "import tensorflow\n",
    "from tensorflow.keras.models import Sequential  \n",
    "from tensorflow.keras.layers import Dense,Dropout,Flatten,Conv2D,MaxPooling2D,BatchNormalization\n",
    "import time\n",
    "import keras\n",
    "from sklearn.metrics import confusion_matrix\n",
    "from sklearn.metrics import classification_report"
   ]
  },
  {
   "cell_type": "code",
   "execution_count": 2,
   "id": "b5610b35",
   "metadata": {},
   "outputs": [],
   "source": [
    "#原資料讀取\n",
    "dirdata1='forehand_train_img/'\n",
    "dirdata2='backhand_train_img/'\n",
    "#資料增生讀取\n",
    "dirdata3='0_data/'\n",
    "dirdata4='1_data/'"
   ]
  },
  {
   "cell_type": "code",
   "execution_count": 3,
   "id": "1f197a46",
   "metadata": {},
   "outputs": [],
   "source": [
    "def data_img(dirdata1,dirdata2):\n",
    "    data = [] # 1 step\n",
    "    label = []\n",
    "    height=120\n",
    "    BLACK = [0,0,0]\n",
    "    for i in os.listdir(dirdata1): # 2 step\n",
    "        img = cv2.imread(dirdata1+i)\n",
    "        x,y,z = img.shape\n",
    "        if x<=height:\n",
    "            constant = cv2.copyMakeBorder(img,0,height-x,0,0,cv2.BORDER_CONSTANT,value=BLACK)\n",
    "        data.append(constant) # 2-2 \n",
    "        label.append(0) # 2-3\n",
    "    for i in os.listdir(dirdata2):\n",
    "        img = cv2.imread(dirdata2+i)\n",
    "        x,y,z = img.shape\n",
    "        if x<=height:\n",
    "            constant = cv2.copyMakeBorder(img,0,height-x,0,0,cv2.BORDER_CONSTANT,value=BLACK)\n",
    "        data.append(constant) # 2-2 \n",
    "        label.append(1) # 2-3\n",
    "        \n",
    "    data = np.array(data) # 3\n",
    "    label = np.array(label) #3\n",
    "\n",
    "    label_one_hot = np.eye(2)[label] # 4 one-hot encoding\n",
    "\n",
    "    data_norm = data / 255 #5\n",
    "    return data_norm,label_one_hot"
   ]
  },
  {
   "cell_type": "code",
   "execution_count": 4,
   "id": "5175eea4",
   "metadata": {},
   "outputs": [],
   "source": [
    "data, label=data_img(dirdata1,dirdata2)\n",
    "#data1, label1=data_img(dirdata3,dirdata4)"
   ]
  },
  {
   "cell_type": "code",
   "execution_count": 5,
   "id": "fcfedd0a",
   "metadata": {},
   "outputs": [],
   "source": [
    "#new_data=np.vstack((data,data1))\n",
    "#new_label=np.vstack((label,label1))"
   ]
  },
  {
   "cell_type": "code",
   "execution_count": 6,
   "id": "869aee53",
   "metadata": {},
   "outputs": [],
   "source": [
    "#new_data.shape,new_label.shape"
   ]
  },
  {
   "cell_type": "code",
   "execution_count": 7,
   "id": "395c1e80",
   "metadata": {},
   "outputs": [],
   "source": [
    "from sklearn.model_selection import train_test_split\n",
    "\n",
    "X_train, Y_train, X_label, Y_label = train_test_split(data, label, test_size=0.5, random_state=42)"
   ]
  },
  {
   "cell_type": "code",
   "execution_count": 8,
   "id": "ae863e05",
   "metadata": {},
   "outputs": [
    {
     "data": {
      "text/plain": [
       "(220, 120, 50, 3)"
      ]
     },
     "execution_count": 8,
     "metadata": {},
     "output_type": "execute_result"
    }
   ],
   "source": [
    "X_train.shape"
   ]
  },
  {
   "cell_type": "code",
   "execution_count": 9,
   "id": "4c212b5e",
   "metadata": {},
   "outputs": [
    {
     "data": {
      "text/plain": [
       "(220, 2)"
      ]
     },
     "execution_count": 9,
     "metadata": {},
     "output_type": "execute_result"
    }
   ],
   "source": [
    "X_label.shape"
   ]
  },
  {
   "cell_type": "code",
   "execution_count": 10,
   "id": "a6cdf8bf",
   "metadata": {},
   "outputs": [],
   "source": [
    "model = Sequential()  \n",
    "model.add(Conv2D(filters=16,  kernel_size=(5,5),padding='same',\n",
    "                 input_shape=(data.shape[1],data.shape[2],data.shape[3]),activation='relu'))  \n",
    "model.add(MaxPooling2D(pool_size=(2,2)))  \n",
    "model.add(BatchNormalization())\n",
    "model.add(Conv2D(filters=36,  kernel_size=(5,5),padding='same',  activation='relu'))  \n",
    "model.add(MaxPooling2D(pool_size=(2,2)))  \n",
    "model.add(Dropout(0.25))\n",
    "model.add(Flatten())\n",
    "model.add(Dense(128, activation='relu'))\n",
    "model.add(Dropout(0.25))\n",
    "model.add(Dense(2, activation='softmax'))\n",
    "model.compile(loss='categorical_crossentropy', optimizer='adam', metrics=['accuracy'])  "
   ]
  },
  {
   "cell_type": "code",
   "execution_count": 11,
   "id": "7ff7f206",
   "metadata": {},
   "outputs": [
    {
     "name": "stdout",
     "output_type": "stream",
     "text": [
      "Model: \"sequential\"\n",
      "_________________________________________________________________\n",
      " Layer (type)                Output Shape              Param #   \n",
      "=================================================================\n",
      " conv2d (Conv2D)             (None, 120, 50, 16)       1216      \n",
      "                                                                 \n",
      " max_pooling2d (MaxPooling2D  (None, 60, 25, 16)       0         \n",
      " )                                                               \n",
      "                                                                 \n",
      " batch_normalization (BatchN  (None, 60, 25, 16)       64        \n",
      " ormalization)                                                   \n",
      "                                                                 \n",
      " conv2d_1 (Conv2D)           (None, 60, 25, 36)        14436     \n",
      "                                                                 \n",
      " max_pooling2d_1 (MaxPooling  (None, 30, 12, 36)       0         \n",
      " 2D)                                                             \n",
      "                                                                 \n",
      " dropout (Dropout)           (None, 30, 12, 36)        0         \n",
      "                                                                 \n",
      " flatten (Flatten)           (None, 12960)             0         \n",
      "                                                                 \n",
      " dense (Dense)               (None, 128)               1659008   \n",
      "                                                                 \n",
      " dropout_1 (Dropout)         (None, 128)               0         \n",
      "                                                                 \n",
      " dense_1 (Dense)             (None, 2)                 258       \n",
      "                                                                 \n",
      "=================================================================\n",
      "Total params: 1,674,982\n",
      "Trainable params: 1,674,950\n",
      "Non-trainable params: 32\n",
      "_________________________________________________________________\n"
     ]
    }
   ],
   "source": [
    "model.summary()"
   ]
  },
  {
   "cell_type": "code",
   "execution_count": 12,
   "id": "5c2b3074",
   "metadata": {},
   "outputs": [
    {
     "name": "stdout",
     "output_type": "stream",
     "text": [
      "Epoch 1/100\n",
      "6/6 [==============================] - 4s 53ms/step - loss: 4.0394 - accuracy: 0.5065 - val_loss: 0.6703 - val_accuracy: 0.7273\n",
      "Epoch 2/100\n",
      "6/6 [==============================] - 0s 9ms/step - loss: 0.4899 - accuracy: 0.7532 - val_loss: 0.6523 - val_accuracy: 0.8030\n",
      "Epoch 3/100\n",
      "6/6 [==============================] - 0s 9ms/step - loss: 0.3120 - accuracy: 0.8571 - val_loss: 0.6050 - val_accuracy: 0.9242\n",
      "Epoch 4/100\n",
      "6/6 [==============================] - 0s 9ms/step - loss: 0.0923 - accuracy: 0.9870 - val_loss: 0.5472 - val_accuracy: 0.9697\n",
      "Epoch 5/100\n",
      "6/6 [==============================] - 0s 9ms/step - loss: 0.0280 - accuracy: 1.0000 - val_loss: 0.5095 - val_accuracy: 0.9848\n",
      "Epoch 6/100\n",
      "6/6 [==============================] - 0s 9ms/step - loss: 0.0268 - accuracy: 1.0000 - val_loss: 0.5027 - val_accuracy: 0.6818\n",
      "Epoch 7/100\n",
      "6/6 [==============================] - 0s 9ms/step - loss: 0.0153 - accuracy: 1.0000 - val_loss: 0.4521 - val_accuracy: 0.9091\n",
      "Epoch 8/100\n",
      "6/6 [==============================] - 0s 9ms/step - loss: 0.0054 - accuracy: 1.0000 - val_loss: 0.4601 - val_accuracy: 0.6970\n",
      "Epoch 9/100\n",
      "6/6 [==============================] - 0s 9ms/step - loss: 0.0048 - accuracy: 1.0000 - val_loss: 0.5058 - val_accuracy: 0.5303\n",
      "Epoch 10/100\n",
      "6/6 [==============================] - 0s 9ms/step - loss: 0.0034 - accuracy: 1.0000 - val_loss: 0.4494 - val_accuracy: 0.6364\n",
      "Epoch 11/100\n",
      "6/6 [==============================] - 0s 9ms/step - loss: 0.0025 - accuracy: 1.0000 - val_loss: 0.4003 - val_accuracy: 0.8182\n",
      "Epoch 12/100\n",
      "6/6 [==============================] - 0s 9ms/step - loss: 8.1144e-04 - accuracy: 1.0000 - val_loss: 0.3705 - val_accuracy: 0.9091\n",
      "Epoch 13/100\n",
      "6/6 [==============================] - 0s 9ms/step - loss: 5.6164e-04 - accuracy: 1.0000 - val_loss: 0.3508 - val_accuracy: 0.9545\n",
      "Epoch 14/100\n",
      "6/6 [==============================] - 0s 9ms/step - loss: 0.0016 - accuracy: 1.0000 - val_loss: 0.3319 - val_accuracy: 0.9848\n",
      "Epoch 15/100\n",
      "6/6 [==============================] - 0s 9ms/step - loss: 9.2604e-04 - accuracy: 1.0000 - val_loss: 0.3229 - val_accuracy: 0.9848\n",
      "Epoch 16/100\n",
      "6/6 [==============================] - 0s 9ms/step - loss: 6.6585e-04 - accuracy: 1.0000 - val_loss: 0.3178 - val_accuracy: 0.9848\n",
      "Epoch 17/100\n",
      "6/6 [==============================] - 0s 9ms/step - loss: 6.7206e-04 - accuracy: 1.0000 - val_loss: 0.3172 - val_accuracy: 0.9848\n",
      "Epoch 18/100\n",
      "6/6 [==============================] - 0s 9ms/step - loss: 7.5848e-04 - accuracy: 1.0000 - val_loss: 0.3147 - val_accuracy: 0.9545\n",
      "Epoch 19/100\n",
      "6/6 [==============================] - 0s 9ms/step - loss: 8.0576e-04 - accuracy: 1.0000 - val_loss: 0.3183 - val_accuracy: 0.9394\n",
      "Epoch 20/100\n",
      "6/6 [==============================] - 0s 9ms/step - loss: 3.7418e-04 - accuracy: 1.0000 - val_loss: 0.3242 - val_accuracy: 0.9091\n",
      "Epoch 21/100\n",
      "6/6 [==============================] - 0s 9ms/step - loss: 5.1485e-04 - accuracy: 1.0000 - val_loss: 0.3220 - val_accuracy: 0.9091\n",
      "Epoch 22/100\n",
      "6/6 [==============================] - 0s 9ms/step - loss: 6.6533e-04 - accuracy: 1.0000 - val_loss: 0.3156 - val_accuracy: 0.9091\n",
      "Epoch 23/100\n",
      "6/6 [==============================] - 0s 9ms/step - loss: 7.6240e-04 - accuracy: 1.0000 - val_loss: 0.3205 - val_accuracy: 0.8788\n",
      "Epoch 24/100\n",
      "6/6 [==============================] - 0s 9ms/step - loss: 2.2970e-04 - accuracy: 1.0000 - val_loss: 0.3227 - val_accuracy: 0.8636\n",
      "Epoch 25/100\n",
      "6/6 [==============================] - 0s 9ms/step - loss: 4.2016e-04 - accuracy: 1.0000 - val_loss: 0.3140 - val_accuracy: 0.8636\n",
      "Epoch 26/100\n",
      "6/6 [==============================] - 0s 9ms/step - loss: 4.3458e-04 - accuracy: 1.0000 - val_loss: 0.3008 - val_accuracy: 0.9091\n",
      "Epoch 27/100\n",
      "6/6 [==============================] - 0s 9ms/step - loss: 0.0020 - accuracy: 1.0000 - val_loss: 0.2859 - val_accuracy: 0.9242\n",
      "Epoch 28/100\n",
      "6/6 [==============================] - 0s 9ms/step - loss: 5.6588e-04 - accuracy: 1.0000 - val_loss: 0.2676 - val_accuracy: 0.9545\n",
      "Epoch 29/100\n",
      "6/6 [==============================] - 0s 9ms/step - loss: 3.9084e-04 - accuracy: 1.0000 - val_loss: 0.2520 - val_accuracy: 0.9848\n",
      "Epoch 30/100\n",
      "6/6 [==============================] - 0s 9ms/step - loss: 5.9452e-04 - accuracy: 1.0000 - val_loss: 0.2560 - val_accuracy: 0.9545\n",
      "Epoch 31/100\n",
      "6/6 [==============================] - 0s 9ms/step - loss: 0.0012 - accuracy: 1.0000 - val_loss: 0.2360 - val_accuracy: 0.9848\n",
      "Epoch 32/100\n",
      "6/6 [==============================] - 0s 8ms/step - loss: 6.2957e-04 - accuracy: 1.0000 - val_loss: 0.2199 - val_accuracy: 0.9848\n",
      "Epoch 33/100\n",
      "6/6 [==============================] - 0s 9ms/step - loss: 2.9677e-04 - accuracy: 1.0000 - val_loss: 0.2131 - val_accuracy: 0.9848\n",
      "Epoch 34/100\n",
      "6/6 [==============================] - 0s 9ms/step - loss: 0.0010 - accuracy: 1.0000 - val_loss: 0.1873 - val_accuracy: 1.0000\n",
      "Epoch 35/100\n",
      "6/6 [==============================] - 0s 9ms/step - loss: 8.6884e-04 - accuracy: 1.0000 - val_loss: 0.1622 - val_accuracy: 1.0000\n",
      "Epoch 36/100\n",
      "6/6 [==============================] - 0s 9ms/step - loss: 4.4991e-04 - accuracy: 1.0000 - val_loss: 0.1504 - val_accuracy: 1.0000\n",
      "Epoch 37/100\n",
      "6/6 [==============================] - 0s 9ms/step - loss: 8.3976e-04 - accuracy: 1.0000 - val_loss: 0.1522 - val_accuracy: 1.0000\n",
      "Epoch 38/100\n",
      "6/6 [==============================] - 0s 9ms/step - loss: 1.7976e-04 - accuracy: 1.0000 - val_loss: 0.1557 - val_accuracy: 1.0000\n",
      "Epoch 39/100\n",
      "6/6 [==============================] - 0s 9ms/step - loss: 2.3163e-04 - accuracy: 1.0000 - val_loss: 0.1562 - val_accuracy: 1.0000\n",
      "Epoch 40/100\n",
      "6/6 [==============================] - 0s 9ms/step - loss: 2.3496e-04 - accuracy: 1.0000 - val_loss: 0.1513 - val_accuracy: 1.0000\n",
      "Epoch 41/100\n",
      "6/6 [==============================] - 0s 9ms/step - loss: 2.3200e-04 - accuracy: 1.0000 - val_loss: 0.1436 - val_accuracy: 1.0000\n",
      "Epoch 42/100\n",
      "6/6 [==============================] - 0s 9ms/step - loss: 1.5920e-04 - accuracy: 1.0000 - val_loss: 0.1363 - val_accuracy: 1.0000\n",
      "Epoch 43/100\n",
      "6/6 [==============================] - 0s 9ms/step - loss: 6.5681e-04 - accuracy: 1.0000 - val_loss: 0.1408 - val_accuracy: 1.0000\n",
      "Epoch 44/100\n",
      "6/6 [==============================] - 0s 8ms/step - loss: 6.4814e-04 - accuracy: 1.0000 - val_loss: 0.1325 - val_accuracy: 1.0000\n",
      "Epoch 45/100\n",
      "6/6 [==============================] - 0s 9ms/step - loss: 2.2278e-04 - accuracy: 1.0000 - val_loss: 0.1154 - val_accuracy: 1.0000\n",
      "Epoch 46/100\n",
      "6/6 [==============================] - 0s 8ms/step - loss: 2.1853e-04 - accuracy: 1.0000 - val_loss: 0.1030 - val_accuracy: 1.0000\n",
      "Epoch 47/100\n",
      "6/6 [==============================] - 0s 9ms/step - loss: 5.2990e-04 - accuracy: 1.0000 - val_loss: 0.0908 - val_accuracy: 1.0000\n",
      "Epoch 48/100\n",
      "6/6 [==============================] - 0s 9ms/step - loss: 3.1646e-04 - accuracy: 1.0000 - val_loss: 0.0816 - val_accuracy: 1.0000\n",
      "Epoch 49/100\n",
      "6/6 [==============================] - 0s 9ms/step - loss: 3.7062e-04 - accuracy: 1.0000 - val_loss: 0.0722 - val_accuracy: 1.0000\n",
      "Epoch 50/100\n",
      "6/6 [==============================] - 0s 9ms/step - loss: 0.0016 - accuracy: 1.0000 - val_loss: 0.0482 - val_accuracy: 1.0000\n",
      "Epoch 51/100\n",
      "6/6 [==============================] - 0s 8ms/step - loss: 3.2194e-04 - accuracy: 1.0000 - val_loss: 0.0395 - val_accuracy: 1.0000\n",
      "Epoch 52/100\n",
      "6/6 [==============================] - 0s 9ms/step - loss: 1.7062e-04 - accuracy: 1.0000 - val_loss: 0.0348 - val_accuracy: 1.0000\n",
      "Epoch 53/100\n",
      "6/6 [==============================] - 0s 9ms/step - loss: 7.7907e-04 - accuracy: 1.0000 - val_loss: 0.0373 - val_accuracy: 1.0000\n",
      "Epoch 54/100\n",
      "6/6 [==============================] - 0s 9ms/step - loss: 7.4277e-05 - accuracy: 1.0000 - val_loss: 0.0387 - val_accuracy: 1.0000\n",
      "Epoch 55/100\n",
      "6/6 [==============================] - 0s 9ms/step - loss: 1.4911e-04 - accuracy: 1.0000 - val_loss: 0.0390 - val_accuracy: 1.0000\n",
      "Epoch 56/100\n",
      "6/6 [==============================] - 0s 8ms/step - loss: 1.3064e-04 - accuracy: 1.0000 - val_loss: 0.0379 - val_accuracy: 1.0000\n",
      "Epoch 57/100\n",
      "6/6 [==============================] - 0s 9ms/step - loss: 3.6638e-04 - accuracy: 1.0000 - val_loss: 0.0354 - val_accuracy: 1.0000\n",
      "Epoch 58/100\n"
     ]
    },
    {
     "name": "stdout",
     "output_type": "stream",
     "text": [
      "6/6 [==============================] - 0s 8ms/step - loss: 2.3687e-04 - accuracy: 1.0000 - val_loss: 0.0317 - val_accuracy: 1.0000\n",
      "Epoch 59/100\n",
      "6/6 [==============================] - 0s 9ms/step - loss: 5.5500e-04 - accuracy: 1.0000 - val_loss: 0.0273 - val_accuracy: 1.0000\n",
      "Epoch 60/100\n",
      "6/6 [==============================] - 0s 9ms/step - loss: 5.0780e-04 - accuracy: 1.0000 - val_loss: 0.0212 - val_accuracy: 1.0000\n",
      "Epoch 61/100\n",
      "6/6 [==============================] - 0s 9ms/step - loss: 1.2686e-04 - accuracy: 1.0000 - val_loss: 0.0166 - val_accuracy: 1.0000\n",
      "Epoch 62/100\n",
      "6/6 [==============================] - 0s 9ms/step - loss: 0.0015 - accuracy: 1.0000 - val_loss: 0.0093 - val_accuracy: 1.0000\n",
      "Epoch 63/100\n",
      "6/6 [==============================] - 0s 9ms/step - loss: 1.6436e-04 - accuracy: 1.0000 - val_loss: 0.0072 - val_accuracy: 1.0000\n",
      "Epoch 64/100\n",
      "6/6 [==============================] - 0s 9ms/step - loss: 8.1358e-04 - accuracy: 1.0000 - val_loss: 0.0062 - val_accuracy: 1.0000\n",
      "Epoch 65/100\n",
      "6/6 [==============================] - 0s 9ms/step - loss: 1.2462e-04 - accuracy: 1.0000 - val_loss: 0.0055 - val_accuracy: 1.0000\n",
      "Epoch 66/100\n",
      "6/6 [==============================] - 0s 9ms/step - loss: 0.0018 - accuracy: 1.0000 - val_loss: 0.0110 - val_accuracy: 1.0000\n",
      "Epoch 67/100\n",
      "6/6 [==============================] - 0s 9ms/step - loss: 1.4562e-04 - accuracy: 1.0000 - val_loss: 0.2680 - val_accuracy: 0.8485\n",
      "Epoch 68/100\n",
      "6/6 [==============================] - 0s 9ms/step - loss: 0.0032 - accuracy: 1.0000 - val_loss: 0.2857 - val_accuracy: 0.8485\n",
      "Epoch 69/100\n",
      "6/6 [==============================] - 0s 9ms/step - loss: 0.0017 - accuracy: 1.0000 - val_loss: 0.0864 - val_accuracy: 0.9848\n",
      "Epoch 70/100\n",
      "6/6 [==============================] - 0s 9ms/step - loss: 0.0025 - accuracy: 1.0000 - val_loss: 0.0120 - val_accuracy: 1.0000\n",
      "Epoch 71/100\n",
      "6/6 [==============================] - 0s 8ms/step - loss: 5.9872e-04 - accuracy: 1.0000 - val_loss: 0.0039 - val_accuracy: 1.0000\n",
      "Epoch 72/100\n",
      "6/6 [==============================] - 0s 9ms/step - loss: 0.0011 - accuracy: 1.0000 - val_loss: 0.0024 - val_accuracy: 1.0000\n",
      "Epoch 73/100\n",
      "6/6 [==============================] - 0s 9ms/step - loss: 2.6829e-04 - accuracy: 1.0000 - val_loss: 0.0020 - val_accuracy: 1.0000\n",
      "Epoch 74/100\n",
      "6/6 [==============================] - 0s 8ms/step - loss: 8.7961e-05 - accuracy: 1.0000 - val_loss: 0.0017 - val_accuracy: 1.0000\n",
      "Epoch 75/100\n",
      "6/6 [==============================] - 0s 9ms/step - loss: 7.7539e-04 - accuracy: 1.0000 - val_loss: 0.0018 - val_accuracy: 1.0000\n",
      "Epoch 76/100\n",
      "6/6 [==============================] - 0s 9ms/step - loss: 1.6954e-04 - accuracy: 1.0000 - val_loss: 0.0020 - val_accuracy: 1.0000\n",
      "Epoch 77/100\n",
      "6/6 [==============================] - 0s 9ms/step - loss: 6.5311e-05 - accuracy: 1.0000 - val_loss: 0.0020 - val_accuracy: 1.0000\n",
      "Epoch 78/100\n",
      "6/6 [==============================] - 0s 9ms/step - loss: 2.5486e-04 - accuracy: 1.0000 - val_loss: 0.0018 - val_accuracy: 1.0000\n",
      "Epoch 79/100\n",
      "6/6 [==============================] - 0s 9ms/step - loss: 2.4053e-04 - accuracy: 1.0000 - val_loss: 0.0016 - val_accuracy: 1.0000\n",
      "Epoch 80/100\n",
      "6/6 [==============================] - 0s 9ms/step - loss: 1.0463e-04 - accuracy: 1.0000 - val_loss: 0.0014 - val_accuracy: 1.0000\n",
      "Epoch 81/100\n",
      "6/6 [==============================] - 0s 9ms/step - loss: 7.9606e-05 - accuracy: 1.0000 - val_loss: 0.0012 - val_accuracy: 1.0000\n",
      "Epoch 82/100\n",
      "6/6 [==============================] - 0s 9ms/step - loss: 1.0166e-04 - accuracy: 1.0000 - val_loss: 0.0011 - val_accuracy: 1.0000\n",
      "Epoch 83/100\n",
      "6/6 [==============================] - 0s 9ms/step - loss: 7.0871e-05 - accuracy: 1.0000 - val_loss: 9.3408e-04 - val_accuracy: 1.0000\n",
      "Epoch 84/100\n",
      "6/6 [==============================] - 0s 9ms/step - loss: 5.4496e-05 - accuracy: 1.0000 - val_loss: 8.1468e-04 - val_accuracy: 1.0000\n",
      "Epoch 85/100\n",
      "6/6 [==============================] - 0s 9ms/step - loss: 1.0915e-04 - accuracy: 1.0000 - val_loss: 7.0893e-04 - val_accuracy: 1.0000\n",
      "Epoch 86/100\n",
      "6/6 [==============================] - 0s 9ms/step - loss: 5.2999e-05 - accuracy: 1.0000 - val_loss: 6.3519e-04 - val_accuracy: 1.0000\n",
      "Epoch 87/100\n",
      "6/6 [==============================] - 0s 9ms/step - loss: 7.3224e-05 - accuracy: 1.0000 - val_loss: 5.6373e-04 - val_accuracy: 1.0000\n",
      "Epoch 88/100\n",
      "6/6 [==============================] - 0s 9ms/step - loss: 1.1055e-04 - accuracy: 1.0000 - val_loss: 4.9040e-04 - val_accuracy: 1.0000\n",
      "Epoch 89/100\n",
      "6/6 [==============================] - 0s 9ms/step - loss: 7.5918e-05 - accuracy: 1.0000 - val_loss: 4.2544e-04 - val_accuracy: 1.0000\n",
      "Epoch 90/100\n",
      "6/6 [==============================] - 0s 9ms/step - loss: 4.4685e-05 - accuracy: 1.0000 - val_loss: 3.6936e-04 - val_accuracy: 1.0000\n",
      "Epoch 91/100\n",
      "6/6 [==============================] - 0s 8ms/step - loss: 1.1798e-04 - accuracy: 1.0000 - val_loss: 3.3305e-04 - val_accuracy: 1.0000\n",
      "Epoch 92/100\n",
      "6/6 [==============================] - 0s 8ms/step - loss: 1.6186e-04 - accuracy: 1.0000 - val_loss: 2.8838e-04 - val_accuracy: 1.0000\n",
      "Epoch 93/100\n",
      "6/6 [==============================] - 0s 8ms/step - loss: 7.0257e-05 - accuracy: 1.0000 - val_loss: 2.4818e-04 - val_accuracy: 1.0000\n",
      "Epoch 94/100\n",
      "6/6 [==============================] - 0s 9ms/step - loss: 1.0415e-04 - accuracy: 1.0000 - val_loss: 2.2058e-04 - val_accuracy: 1.0000\n",
      "Epoch 95/100\n",
      "6/6 [==============================] - 0s 9ms/step - loss: 5.5473e-05 - accuracy: 1.0000 - val_loss: 1.9922e-04 - val_accuracy: 1.0000\n",
      "Epoch 96/100\n",
      "6/6 [==============================] - 0s 9ms/step - loss: 6.3653e-05 - accuracy: 1.0000 - val_loss: 1.8765e-04 - val_accuracy: 1.0000\n",
      "Epoch 97/100\n",
      "6/6 [==============================] - 0s 9ms/step - loss: 4.0922e-04 - accuracy: 1.0000 - val_loss: 1.1634e-04 - val_accuracy: 1.0000\n",
      "Epoch 98/100\n",
      "6/6 [==============================] - 0s 9ms/step - loss: 7.9516e-04 - accuracy: 1.0000 - val_loss: 8.8828e-05 - val_accuracy: 1.0000\n",
      "Epoch 99/100\n",
      "6/6 [==============================] - 0s 8ms/step - loss: 1.8166e-04 - accuracy: 1.0000 - val_loss: 9.3695e-05 - val_accuracy: 1.0000\n",
      "Epoch 100/100\n",
      "6/6 [==============================] - 0s 9ms/step - loss: 7.3841e-05 - accuracy: 1.0000 - val_loss: 7.8494e-05 - val_accuracy: 1.0000\n"
     ]
    }
   ],
   "source": [
    "# 定義訓練方式  \n",
    "model.compile(loss='categorical_crossentropy', optimizer='adam', metrics=['accuracy'])  \n",
    "\n",
    "start_time = time.time()\n",
    "# 開始訓練  \n",
    "train_history = model.fit(X_train,X_label,validation_split=0.3,epochs=100, batch_size=30, verbose=1)\n",
    "end_time = time.time()"
   ]
  },
  {
   "cell_type": "code",
   "execution_count": 13,
   "id": "905f3ce8",
   "metadata": {},
   "outputs": [
    {
     "name": "stdout",
     "output_type": "stream",
     "text": [
      "執行時間:  9.497015237808228 s\n"
     ]
    }
   ],
   "source": [
    "execution_time = (end_time - start_time)\n",
    "print(\"執行時間: \",execution_time,\"s\")"
   ]
  },
  {
   "cell_type": "code",
   "execution_count": 14,
   "id": "45042c67",
   "metadata": {},
   "outputs": [
    {
     "data": {
      "image/png": "[encoded data removed]",
      "text/plain": [
       "<Figure size 864x288 with 2 Axes>"
      ]
     },
     "metadata": {
      "needs_background": "light"
     },
     "output_type": "display_data"
    }
   ],
   "source": [
    "f, (ax1, ax2) = plt.subplots(1, 2, figsize=(12, 4))\n",
    "t = f.suptitle('class model evaluate', fontsize=12)\n",
    "f.subplots_adjust(top=0.85, wspace=0.3)\n",
    "\n",
    "class_epoch_list = list(range(1,101))\n",
    "ax1.plot(class_epoch_list, train_history.history['accuracy'], label='class_Train Accuracy')\n",
    "ax1.plot(class_epoch_list, train_history.history['val_accuracy'], label='class_Validation Accuracy')\n",
    "ax1.set_xticks(np.arange(0, 101, 5))\n",
    "ax1.set_ylabel('class_Accuracy Value')\n",
    "ax1.set_xlabel('class_Epoch')\n",
    "ax1.set_title('class_Accuracy')\n",
    "l1 = ax1.legend(loc=\"best\")\n",
    "\n",
    "ax2.plot(class_epoch_list, train_history.history['loss'], label='class_Train Loss')\n",
    "ax2.plot(class_epoch_list, train_history.history['val_loss'], label='class_Validation Loss')\n",
    "ax2.set_xticks(np.arange(0, 101, 5))\n",
    "ax2.set_ylabel('class_Loss Value')\n",
    "ax2.set_xlabel('class_Epoch')\n",
    "ax2.set_title('class_Loss')\n",
    "l2 = ax2.legend(loc=\"best\")"
   ]
  },
  {
   "cell_type": "code",
   "execution_count": 14,
   "id": "2bf5fba1",
   "metadata": {},
   "outputs": [],
   "source": [
    "#model.save('2d_cnn.h5')"
   ]
  },
  {
   "cell_type": "code",
   "execution_count": 15,
   "id": "9281d6a2",
   "metadata": {},
   "outputs": [],
   "source": [
    "modello = keras.models.load_model('2d_cnn.h5')"
   ]
  },
  {
   "cell_type": "code",
   "execution_count": 16,
   "id": "561aad1e",
   "metadata": {},
   "outputs": [],
   "source": [
    "test_dirdata1='forehand_test_img/'\n",
    "test_dirdata2='backhand_test_img/'"
   ]
  },
  {
   "cell_type": "code",
   "execution_count": 17,
   "id": "e55ba160",
   "metadata": {},
   "outputs": [],
   "source": [
    "test_data, test_label=data_img(test_dirdata1,test_dirdata2)"
   ]
  },
  {
   "cell_type": "code",
   "execution_count": 26,
   "id": "c24589dc",
   "metadata": {},
   "outputs": [
    {
     "name": "stdout",
     "output_type": "stream",
     "text": [
      "66/66 - 0s - 242ms/epoch - 4ms/step\n"
     ]
    }
   ],
   "source": [
    "#time_pre=model.predict(Y_train,verbose=2)\n",
    "time_pre=modello.predict(Y_train,verbose=2)"
   ]
  },
  {
   "cell_type": "code",
   "execution_count": 27,
   "id": "8b092672",
   "metadata": {},
   "outputs": [],
   "source": [
    "Y_test = np.argmax(Y_label,axis=1)\n",
    "Y_pred = np.argmax(time_pre,axis=1)"
   ]
  },
  {
   "cell_type": "code",
   "execution_count": 28,
   "id": "12d9a0db",
   "metadata": {},
   "outputs": [
    {
     "name": "stdout",
     "output_type": "stream",
     "text": [
      "              precision    recall  f1-score   support\n",
      "\n",
      "    forehand       0.97      0.86      0.91      1061\n",
      "    backhand       0.87      0.97      0.92      1040\n",
      "\n",
      "    accuracy                           0.92      2101\n",
      "   macro avg       0.92      0.92      0.92      2101\n",
      "weighted avg       0.92      0.92      0.92      2101\n",
      "\n"
     ]
    },
    {
     "data": {
      "image/png": "[encoded data removed]",
      "text/plain": [
       "<Figure size 432x288 with 1 Axes>"
      ]
     },
     "metadata": {},
     "output_type": "display_data"
    }
   ],
   "source": [
    "mat = confusion_matrix(Y_test,Y_pred)\n",
    "\n",
    "sns.set(font_scale=1.5)\n",
    "plt.subplot(1,2,1)\n",
    "sns.heatmap(mat, square=True, annot=True, fmt='d', cbar=False)\n",
    "plt.xticks(fontsize=20)\n",
    "plt.yticks(fontsize=20)\n",
    "\n",
    "plt.ylabel('true label')\n",
    "plt.xlabel('predicted label');\n",
    "\n",
    "target_names = [\"forehand\",\"backhand\"]\n",
    "print(classification_report(Y_test,Y_pred,target_names=target_names))"
   ]
  },
  {
   "cell_type": "code",
   "execution_count": null,
   "id": "8b2a842a",
   "metadata": {},
   "outputs": [],
   "source": []
  }
 ],
 "metadata": {
  "kernelspec": {
   "display_name": "Python 3 (ipykernel)",
   "language": "python",
   "name": "python3"
  },
  "language_info": {
   "codemirror_mode": {
    "name": "ipython",
    "version": 3
   },
   "file_extension": ".py",
   "mimetype": "text/x-python",
   "name": "python",
   "nbconvert_exporter": "python",
   "pygments_lexer": "ipython3",
   "version": "3.8.11"
  }
 },
 "nbformat": 4,
 "nbformat_minor": 5
}
