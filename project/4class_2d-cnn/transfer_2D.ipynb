{
 "cells": [
  {
   "cell_type": "code",
   "execution_count": 1,
   "id": "6ff43c29",
   "metadata": {},
   "outputs": [],
   "source": [
    "import numpy as np  \n",
    "import pandas as pd  \n",
    "from keras.utils import np_utils\n",
    "import os\n",
    "import matplotlib.pyplot as plt\n",
    "import seaborn as sns\n",
    "import cv2\n",
    "import tensorflow\n",
    "from tensorflow.keras.models import Sequential  \n",
    "from tensorflow.keras.layers import Dense,Dropout,Flatten,Conv2D,MaxPooling2D,BatchNormalization\n",
    "import time\n",
    "import keras\n",
    "from sklearn.metrics import confusion_matrix\n",
    "from sklearn.metrics import classification_report"
   ]
  },
  {
   "cell_type": "code",
   "execution_count": 2,
   "id": "6e616d98",
   "metadata": {},
   "outputs": [],
   "source": [
    "#存放資料的資料夾\n",
    "dirdata1='0_img/'\n",
    "dirdata2='1_img/'\n",
    "dirdata3='2_img/'\n",
    "dirdata4='3_img/'"
   ]
  },
  {
   "cell_type": "code",
   "execution_count": 3,
   "id": "410ebc22",
   "metadata": {},
   "outputs": [],
   "source": [
    "#資料前處理，因原本的資料大小不固定，所以將其圖片進行填充\n",
    "def data_img(dirdata1,dirdata2,dirdata3,dirdata4):\n",
    "    data = [] # 1 step\n",
    "    label = []\n",
    "    height=120\n",
    "    BLACK = [0,0,0]\n",
    "    for i in os.listdir(dirdata1): # 2 step\n",
    "        img = cv2.imread(dirdata1+i)\n",
    "        x,y,z = img.shape\n",
    "        if x<=height:\n",
    "            constant = cv2.copyMakeBorder(img,0,height-x,0,0,cv2.BORDER_CONSTANT,value=BLACK)\n",
    "        data.append(constant) # 2-2 \n",
    "        label.append(0) # 2-3\n",
    "    for i in os.listdir(dirdata2):\n",
    "        img = cv2.imread(dirdata2+i)\n",
    "        x,y,z = img.shape\n",
    "        if x<=height:\n",
    "            constant = cv2.copyMakeBorder(img,0,height-x,0,0,cv2.BORDER_CONSTANT,value=BLACK)\n",
    "        data.append(constant) # 2-2 \n",
    "        label.append(1) # 2-3\n",
    "        \n",
    "    for i in os.listdir(dirdata3):\n",
    "        img = cv2.imread(dirdata3+i)\n",
    "        x,y,z = img.shape\n",
    "        if x<=height:\n",
    "            constant = cv2.copyMakeBorder(img,0,height-x,0,0,cv2.BORDER_CONSTANT,value=BLACK)\n",
    "        data.append(constant) # 2-2 \n",
    "        label.append(2) # 2-3\n",
    "        \n",
    "    for i in os.listdir(dirdata4):\n",
    "        img = cv2.imread(dirdata4+i)\n",
    "        x,y,z = img.shape\n",
    "        if x<=height:\n",
    "            constant = cv2.copyMakeBorder(img,0,height-x,0,0,cv2.BORDER_CONSTANT,value=BLACK)\n",
    "        data.append(constant) # 2-2 \n",
    "        label.append(3) # 2-3\n",
    "        \n",
    "    data = np.array(data) # 3\n",
    "    label = np.array(label) #3\n",
    "\n",
    "    label_one_hot = np.eye(4)[label] # 4 one-hot encoding\n",
    "\n",
    "    data_norm = data / 255 #5\n",
    "    return data_norm,label_one_hot"
   ]
  },
  {
   "cell_type": "code",
   "execution_count": 4,
   "id": "76111fd6",
   "metadata": {},
   "outputs": [],
   "source": [
    "#函式使用\n",
    "data, label=data_img(dirdata1,dirdata2,dirdata3,dirdata4)"
   ]
  },
  {
   "cell_type": "code",
   "execution_count": 5,
   "id": "523d7787",
   "metadata": {},
   "outputs": [],
   "source": [
    "#將資料分為訓練與測試集\n",
    "from sklearn.model_selection import train_test_split\n",
    "X_train, X_test, Y_train, Y_test = train_test_split(data, label, test_size=0.5, random_state=42)"
   ]
  },
  {
   "cell_type": "code",
   "execution_count": 6,
   "id": "e2862dfb",
   "metadata": {},
   "outputs": [],
   "source": [
    "#讀取VGG16套件\n",
    "from keras.applications import vgg16"
   ]
  },
  {
   "cell_type": "code",
   "execution_count": 7,
   "id": "8ae8ee55",
   "metadata": {},
   "outputs": [],
   "source": [
    "#讀取vgg16模型並重設輸入層\n",
    "#其中並不包含原本的輸入與輸出\n",
    "vgg16=vgg16.VGG16(weights='imagenet', include_top=False, input_shape=(120,50,3))"
   ]
  },
  {
   "cell_type": "code",
   "execution_count": 8,
   "id": "e5391f07",
   "metadata": {},
   "outputs": [
    {
     "name": "stdout",
     "output_type": "stream",
     "text": [
      "Model: \"vgg16\"\n",
      "_________________________________________________________________\n",
      " Layer (type)                Output Shape              Param #   \n",
      "=================================================================\n",
      " input_1 (InputLayer)        [(None, 120, 50, 3)]      0         \n",
      "                                                                 \n",
      " block1_conv1 (Conv2D)       (None, 120, 50, 64)       1792      \n",
      "                                                                 \n",
      " block1_conv2 (Conv2D)       (None, 120, 50, 64)       36928     \n",
      "                                                                 \n",
      " block1_pool (MaxPooling2D)  (None, 60, 25, 64)        0         \n",
      "                                                                 \n",
      " block2_conv1 (Conv2D)       (None, 60, 25, 128)       73856     \n",
      "                                                                 \n",
      " block2_conv2 (Conv2D)       (None, 60, 25, 128)       147584    \n",
      "                                                                 \n",
      " block2_pool (MaxPooling2D)  (None, 30, 12, 128)       0         \n",
      "                                                                 \n",
      " block3_conv1 (Conv2D)       (None, 30, 12, 256)       295168    \n",
      "                                                                 \n",
      " block3_conv2 (Conv2D)       (None, 30, 12, 256)       590080    \n",
      "                                                                 \n",
      " block3_conv3 (Conv2D)       (None, 30, 12, 256)       590080    \n",
      "                                                                 \n",
      " block3_pool (MaxPooling2D)  (None, 15, 6, 256)        0         \n",
      "                                                                 \n",
      " block4_conv1 (Conv2D)       (None, 15, 6, 512)        1180160   \n",
      "                                                                 \n",
      " block4_conv2 (Conv2D)       (None, 15, 6, 512)        2359808   \n",
      "                                                                 \n",
      " block4_conv3 (Conv2D)       (None, 15, 6, 512)        2359808   \n",
      "                                                                 \n",
      " block4_pool (MaxPooling2D)  (None, 7, 3, 512)         0         \n",
      "                                                                 \n",
      " block5_conv1 (Conv2D)       (None, 7, 3, 512)         2359808   \n",
      "                                                                 \n",
      " block5_conv2 (Conv2D)       (None, 7, 3, 512)         2359808   \n",
      "                                                                 \n",
      " block5_conv3 (Conv2D)       (None, 7, 3, 512)         2359808   \n",
      "                                                                 \n",
      " block5_pool (MaxPooling2D)  (None, 3, 1, 512)         0         \n",
      "                                                                 \n",
      "=================================================================\n",
      "Total params: 14,714,688\n",
      "Trainable params: 14,714,688\n",
      "Non-trainable params: 0\n",
      "_________________________________________________________________\n"
     ]
    }
   ],
   "source": [
    "vgg16.summary()"
   ]
  },
  {
   "cell_type": "code",
   "execution_count": 9,
   "id": "fc64c4d0",
   "metadata": {},
   "outputs": [],
   "source": [
    "#建立新的模型\n",
    "model = Sequential()"
   ]
  },
  {
   "cell_type": "code",
   "execution_count": 10,
   "id": "ae871cdf",
   "metadata": {},
   "outputs": [
    {
     "name": "stdout",
     "output_type": "stream",
     "text": [
      "Model: \"sequential\"\n",
      "_________________________________________________________________\n",
      " Layer (type)                Output Shape              Param #   \n",
      "=================================================================\n",
      " block1_conv1 (Conv2D)       (None, 120, 50, 64)       1792      \n",
      "                                                                 \n",
      " block1_conv2 (Conv2D)       (None, 120, 50, 64)       36928     \n",
      "                                                                 \n",
      " block1_pool (MaxPooling2D)  (None, 60, 25, 64)        0         \n",
      "                                                                 \n",
      " block2_conv1 (Conv2D)       (None, 60, 25, 128)       73856     \n",
      "                                                                 \n",
      " block2_conv2 (Conv2D)       (None, 60, 25, 128)       147584    \n",
      "                                                                 \n",
      " block2_pool (MaxPooling2D)  (None, 30, 12, 128)       0         \n",
      "                                                                 \n",
      " block3_conv1 (Conv2D)       (None, 30, 12, 256)       295168    \n",
      "                                                                 \n",
      " block3_conv2 (Conv2D)       (None, 30, 12, 256)       590080    \n",
      "                                                                 \n",
      " block3_conv3 (Conv2D)       (None, 30, 12, 256)       590080    \n",
      "                                                                 \n",
      " block3_pool (MaxPooling2D)  (None, 15, 6, 256)        0         \n",
      "                                                                 \n",
      " block4_conv1 (Conv2D)       (None, 15, 6, 512)        1180160   \n",
      "                                                                 \n",
      " block4_conv2 (Conv2D)       (None, 15, 6, 512)        2359808   \n",
      "                                                                 \n",
      " block4_conv3 (Conv2D)       (None, 15, 6, 512)        2359808   \n",
      "                                                                 \n",
      " block4_pool (MaxPooling2D)  (None, 7, 3, 512)         0         \n",
      "                                                                 \n",
      " block5_conv1 (Conv2D)       (None, 7, 3, 512)         2359808   \n",
      "                                                                 \n",
      " block5_conv2 (Conv2D)       (None, 7, 3, 512)         2359808   \n",
      "                                                                 \n",
      " block5_conv3 (Conv2D)       (None, 7, 3, 512)         2359808   \n",
      "                                                                 \n",
      " block5_pool (MaxPooling2D)  (None, 3, 1, 512)         0         \n",
      "                                                                 \n",
      "=================================================================\n",
      "Total params: 14,714,688\n",
      "Trainable params: 14,714,688\n",
      "Non-trainable params: 0\n",
      "_________________________________________________________________\n"
     ]
    }
   ],
   "source": [
    "#將vgg16的訓練層讀進新模型\n",
    "for layer in vgg16.layers:\n",
    "    model.add(layer)\n",
    "model.summary()"
   ]
  },
  {
   "cell_type": "code",
   "execution_count": 11,
   "id": "e841b480",
   "metadata": {},
   "outputs": [
    {
     "data": {
      "text/plain": [
       "(<keras.layers.convolutional.Conv2D at 0x19a70d47280>,\n",
       " <keras.layers.convolutional.Conv2D at 0x19a70d47ac0>,\n",
       " <keras.layers.pooling.MaxPooling2D at 0x19a70d47a30>,\n",
       " <keras.layers.convolutional.Conv2D at 0x19a0de0b310>)"
      ]
     },
     "execution_count": 11,
     "metadata": {},
     "output_type": "execute_result"
    }
   ],
   "source": [
    "model.layers[0],model.layers[1],model.layers[2],model.layers[3]"
   ]
  },
  {
   "cell_type": "code",
   "execution_count": 12,
   "id": "ce87a9c9",
   "metadata": {},
   "outputs": [],
   "source": [
    "#將vgg16的訓練層參數全部凍結\n",
    "#for layer in model.layers:\n",
    "#    layer.trainable = False"
   ]
  },
  {
   "cell_type": "code",
   "execution_count": 14,
   "id": "309f9cc2",
   "metadata": {},
   "outputs": [],
   "source": [
    "#將vgg16的訓練層參數部分凍結\n",
    "for i in range(1,13):\n",
    "    model.layers[i].trainable = False"
   ]
  },
  {
   "cell_type": "code",
   "execution_count": 15,
   "id": "a0a28259",
   "metadata": {},
   "outputs": [
    {
     "name": "stdout",
     "output_type": "stream",
     "text": [
      "Model: \"sequential\"\n",
      "_________________________________________________________________\n",
      " Layer (type)                Output Shape              Param #   \n",
      "=================================================================\n",
      " block1_conv1 (Conv2D)       (None, 120, 50, 64)       1792      \n",
      "                                                                 \n",
      " block1_conv2 (Conv2D)       (None, 120, 50, 64)       36928     \n",
      "                                                                 \n",
      " block1_pool (MaxPooling2D)  (None, 60, 25, 64)        0         \n",
      "                                                                 \n",
      " block2_conv1 (Conv2D)       (None, 60, 25, 128)       73856     \n",
      "                                                                 \n",
      " block2_conv2 (Conv2D)       (None, 60, 25, 128)       147584    \n",
      "                                                                 \n",
      " block2_pool (MaxPooling2D)  (None, 30, 12, 128)       0         \n",
      "                                                                 \n",
      " block3_conv1 (Conv2D)       (None, 30, 12, 256)       295168    \n",
      "                                                                 \n",
      " block3_conv2 (Conv2D)       (None, 30, 12, 256)       590080    \n",
      "                                                                 \n",
      " block3_conv3 (Conv2D)       (None, 30, 12, 256)       590080    \n",
      "                                                                 \n",
      " block3_pool (MaxPooling2D)  (None, 15, 6, 256)        0         \n",
      "                                                                 \n",
      " block4_conv1 (Conv2D)       (None, 15, 6, 512)        1180160   \n",
      "                                                                 \n",
      " block4_conv2 (Conv2D)       (None, 15, 6, 512)        2359808   \n",
      "                                                                 \n",
      " block4_conv3 (Conv2D)       (None, 15, 6, 512)        2359808   \n",
      "                                                                 \n",
      " block4_pool (MaxPooling2D)  (None, 7, 3, 512)         0         \n",
      "                                                                 \n",
      " block5_conv1 (Conv2D)       (None, 7, 3, 512)         2359808   \n",
      "                                                                 \n",
      " block5_conv2 (Conv2D)       (None, 7, 3, 512)         2359808   \n",
      "                                                                 \n",
      " block5_conv3 (Conv2D)       (None, 7, 3, 512)         2359808   \n",
      "                                                                 \n",
      " block5_pool (MaxPooling2D)  (None, 3, 1, 512)         0         \n",
      "                                                                 \n",
      "=================================================================\n",
      "Total params: 14,714,688\n",
      "Trainable params: 7,081,216\n",
      "Non-trainable params: 7,633,472\n",
      "_________________________________________________________________\n"
     ]
    }
   ],
   "source": [
    "model.summary()"
   ]
  },
  {
   "cell_type": "code",
   "execution_count": 16,
   "id": "b643eb08",
   "metadata": {},
   "outputs": [],
   "source": [
    "#在新模型後加入新的輸出\n",
    "model.add(Flatten())\n",
    "model.add(Dense(128, activation='relu'))\n",
    "model.add(Dropout(0.25))\n",
    "model.add(Dense(4, activation='softmax'))"
   ]
  },
  {
   "cell_type": "code",
   "execution_count": 17,
   "id": "b6174084",
   "metadata": {},
   "outputs": [
    {
     "name": "stdout",
     "output_type": "stream",
     "text": [
      "Model: \"sequential\"\n",
      "_________________________________________________________________\n",
      " Layer (type)                Output Shape              Param #   \n",
      "=================================================================\n",
      " block1_conv1 (Conv2D)       (None, 120, 50, 64)       1792      \n",
      "                                                                 \n",
      " block1_conv2 (Conv2D)       (None, 120, 50, 64)       36928     \n",
      "                                                                 \n",
      " block1_pool (MaxPooling2D)  (None, 60, 25, 64)        0         \n",
      "                                                                 \n",
      " block2_conv1 (Conv2D)       (None, 60, 25, 128)       73856     \n",
      "                                                                 \n",
      " block2_conv2 (Conv2D)       (None, 60, 25, 128)       147584    \n",
      "                                                                 \n",
      " block2_pool (MaxPooling2D)  (None, 30, 12, 128)       0         \n",
      "                                                                 \n",
      " block3_conv1 (Conv2D)       (None, 30, 12, 256)       295168    \n",
      "                                                                 \n",
      " block3_conv2 (Conv2D)       (None, 30, 12, 256)       590080    \n",
      "                                                                 \n",
      " block3_conv3 (Conv2D)       (None, 30, 12, 256)       590080    \n",
      "                                                                 \n",
      " block3_pool (MaxPooling2D)  (None, 15, 6, 256)        0         \n",
      "                                                                 \n",
      " block4_conv1 (Conv2D)       (None, 15, 6, 512)        1180160   \n",
      "                                                                 \n",
      " block4_conv2 (Conv2D)       (None, 15, 6, 512)        2359808   \n",
      "                                                                 \n",
      " block4_conv3 (Conv2D)       (None, 15, 6, 512)        2359808   \n",
      "                                                                 \n",
      " block4_pool (MaxPooling2D)  (None, 7, 3, 512)         0         \n",
      "                                                                 \n",
      " block5_conv1 (Conv2D)       (None, 7, 3, 512)         2359808   \n",
      "                                                                 \n",
      " block5_conv2 (Conv2D)       (None, 7, 3, 512)         2359808   \n",
      "                                                                 \n",
      " block5_conv3 (Conv2D)       (None, 7, 3, 512)         2359808   \n",
      "                                                                 \n",
      " block5_pool (MaxPooling2D)  (None, 3, 1, 512)         0         \n",
      "                                                                 \n",
      " flatten (Flatten)           (None, 1536)              0         \n",
      "                                                                 \n",
      " dense (Dense)               (None, 128)               196736    \n",
      "                                                                 \n",
      " dropout (Dropout)           (None, 128)               0         \n",
      "                                                                 \n",
      " dense_1 (Dense)             (None, 4)                 516       \n",
      "                                                                 \n",
      "=================================================================\n",
      "Total params: 14,911,940\n",
      "Trainable params: 7,278,468\n",
      "Non-trainable params: 7,633,472\n",
      "_________________________________________________________________\n"
     ]
    }
   ],
   "source": [
    "model.summary()"
   ]
  },
  {
   "cell_type": "code",
   "execution_count": 18,
   "id": "938773a7",
   "metadata": {},
   "outputs": [
    {
     "name": "stdout",
     "output_type": "stream",
     "text": [
      "Epoch 1/100\n",
      "4/4 [==============================] - 5s 443ms/step - loss: 1.5287 - accuracy: 0.3093 - val_loss: 1.2706 - val_accuracy: 0.5600\n",
      "Epoch 2/100\n",
      "4/4 [==============================] - 0s 34ms/step - loss: 1.2367 - accuracy: 0.4742 - val_loss: 1.1934 - val_accuracy: 0.7200\n",
      "Epoch 3/100\n",
      "4/4 [==============================] - 0s 34ms/step - loss: 1.2435 - accuracy: 0.4536 - val_loss: 1.1112 - val_accuracy: 0.5600\n",
      "Epoch 4/100\n",
      "4/4 [==============================] - 0s 34ms/step - loss: 1.0896 - accuracy: 0.5567 - val_loss: 0.9875 - val_accuracy: 0.7200\n",
      "Epoch 5/100\n",
      "4/4 [==============================] - 0s 34ms/step - loss: 1.0184 - accuracy: 0.6495 - val_loss: 1.1433 - val_accuracy: 0.6000\n",
      "Epoch 6/100\n",
      "4/4 [==============================] - 0s 34ms/step - loss: 0.8589 - accuracy: 0.7010 - val_loss: 1.2515 - val_accuracy: 0.5600\n",
      "Epoch 7/100\n",
      "4/4 [==============================] - 0s 34ms/step - loss: 0.9283 - accuracy: 0.6392 - val_loss: 0.6026 - val_accuracy: 0.8000\n",
      "Epoch 8/100\n",
      "4/4 [==============================] - 0s 34ms/step - loss: 0.6409 - accuracy: 0.7216 - val_loss: 0.5542 - val_accuracy: 0.8000\n",
      "Epoch 9/100\n",
      "4/4 [==============================] - 0s 33ms/step - loss: 0.6236 - accuracy: 0.7320 - val_loss: 0.5509 - val_accuracy: 0.8000\n",
      "Epoch 10/100\n",
      "4/4 [==============================] - 0s 33ms/step - loss: 0.5349 - accuracy: 0.7423 - val_loss: 0.5545 - val_accuracy: 0.8000\n",
      "Epoch 11/100\n",
      "4/4 [==============================] - 0s 34ms/step - loss: 0.5169 - accuracy: 0.7526 - val_loss: 0.5100 - val_accuracy: 0.8000\n",
      "Epoch 12/100\n",
      "4/4 [==============================] - 0s 34ms/step - loss: 0.5218 - accuracy: 0.7526 - val_loss: 0.5585 - val_accuracy: 0.7600\n",
      "Epoch 13/100\n",
      "4/4 [==============================] - 0s 34ms/step - loss: 0.4709 - accuracy: 0.7732 - val_loss: 0.5113 - val_accuracy: 0.8800\n",
      "Epoch 14/100\n",
      "4/4 [==============================] - 0s 34ms/step - loss: 0.4552 - accuracy: 0.8454 - val_loss: 0.4529 - val_accuracy: 0.8800\n",
      "Epoch 15/100\n",
      "4/4 [==============================] - 0s 34ms/step - loss: 0.4099 - accuracy: 0.7938 - val_loss: 0.4234 - val_accuracy: 0.8000\n",
      "Epoch 16/100\n",
      "4/4 [==============================] - 0s 34ms/step - loss: 0.3678 - accuracy: 0.8351 - val_loss: 0.3884 - val_accuracy: 0.9200\n",
      "Epoch 17/100\n",
      "4/4 [==============================] - 0s 34ms/step - loss: 0.3117 - accuracy: 0.8763 - val_loss: 0.3771 - val_accuracy: 0.9600\n",
      "Epoch 18/100\n",
      "4/4 [==============================] - 0s 33ms/step - loss: 0.2948 - accuracy: 0.8660 - val_loss: 0.5329 - val_accuracy: 0.9600\n",
      "Epoch 19/100\n",
      "4/4 [==============================] - 0s 34ms/step - loss: 0.2295 - accuracy: 0.8660 - val_loss: 0.3160 - val_accuracy: 0.9200\n",
      "Epoch 20/100\n",
      "4/4 [==============================] - 0s 34ms/step - loss: 0.2093 - accuracy: 0.9072 - val_loss: 0.7690 - val_accuracy: 0.9600\n",
      "Epoch 21/100\n",
      "4/4 [==============================] - 0s 35ms/step - loss: 0.2679 - accuracy: 0.8557 - val_loss: 0.8428 - val_accuracy: 0.7600\n",
      "Epoch 22/100\n",
      "4/4 [==============================] - 0s 34ms/step - loss: 0.2775 - accuracy: 0.8969 - val_loss: 0.8710 - val_accuracy: 0.8800\n",
      "Epoch 23/100\n",
      "4/4 [==============================] - 0s 34ms/step - loss: 0.1692 - accuracy: 0.9485 - val_loss: 0.7035 - val_accuracy: 0.9200\n",
      "Epoch 24/100\n",
      "4/4 [==============================] - 0s 34ms/step - loss: 0.0997 - accuracy: 0.9794 - val_loss: 0.7697 - val_accuracy: 0.8400\n",
      "Epoch 25/100\n",
      "4/4 [==============================] - 0s 34ms/step - loss: 0.0925 - accuracy: 0.9794 - val_loss: 1.1935 - val_accuracy: 0.7600\n",
      "Epoch 26/100\n",
      "4/4 [==============================] - 0s 34ms/step - loss: 0.0788 - accuracy: 0.9794 - val_loss: 0.9903 - val_accuracy: 0.9200\n",
      "Epoch 27/100\n",
      "4/4 [==============================] - 0s 36ms/step - loss: 0.1902 - accuracy: 0.9381 - val_loss: 0.9844 - val_accuracy: 0.6800\n",
      "Epoch 28/100\n",
      "4/4 [==============================] - 0s 35ms/step - loss: 0.1784 - accuracy: 0.9381 - val_loss: 0.6643 - val_accuracy: 0.9200\n",
      "Epoch 29/100\n",
      "4/4 [==============================] - 0s 34ms/step - loss: 0.0248 - accuracy: 1.0000 - val_loss: 1.5922 - val_accuracy: 0.8000\n",
      "Epoch 30/100\n",
      "4/4 [==============================] - 0s 34ms/step - loss: 0.1113 - accuracy: 0.9794 - val_loss: 0.8304 - val_accuracy: 0.7200\n",
      "Epoch 31/100\n",
      "4/4 [==============================] - 0s 34ms/step - loss: 0.0218 - accuracy: 0.9897 - val_loss: 0.9884 - val_accuracy: 0.7600\n",
      "Epoch 32/100\n",
      "4/4 [==============================] - 0s 33ms/step - loss: 0.0109 - accuracy: 1.0000 - val_loss: 0.7039 - val_accuracy: 0.9200\n",
      "Epoch 33/100\n",
      "4/4 [==============================] - 0s 34ms/step - loss: 0.0030 - accuracy: 1.0000 - val_loss: 0.8857 - val_accuracy: 0.9600\n",
      "Epoch 34/100\n",
      "4/4 [==============================] - 0s 34ms/step - loss: 0.0033 - accuracy: 1.0000 - val_loss: 1.1225 - val_accuracy: 0.9600\n",
      "Epoch 35/100\n",
      "4/4 [==============================] - 0s 33ms/step - loss: 0.0016 - accuracy: 1.0000 - val_loss: 1.2442 - val_accuracy: 0.9600\n",
      "Epoch 36/100\n",
      "4/4 [==============================] - 0s 34ms/step - loss: 7.1464e-04 - accuracy: 1.0000 - val_loss: 1.2017 - val_accuracy: 0.9600\n",
      "Epoch 37/100\n",
      "4/4 [==============================] - 0s 35ms/step - loss: 4.0717e-04 - accuracy: 1.0000 - val_loss: 1.1308 - val_accuracy: 0.9600\n",
      "Epoch 38/100\n",
      "4/4 [==============================] - 0s 34ms/step - loss: 3.6601e-05 - accuracy: 1.0000 - val_loss: 1.1657 - val_accuracy: 0.9600\n",
      "Epoch 39/100\n",
      "4/4 [==============================] - 0s 34ms/step - loss: 7.2288e-05 - accuracy: 1.0000 - val_loss: 1.2078 - val_accuracy: 0.9600\n",
      "Epoch 40/100\n",
      "4/4 [==============================] - 0s 34ms/step - loss: 0.0012 - accuracy: 1.0000 - val_loss: 1.1539 - val_accuracy: 0.9600\n",
      "Epoch 41/100\n",
      "4/4 [==============================] - 0s 34ms/step - loss: 1.6003e-04 - accuracy: 1.0000 - val_loss: 1.2790 - val_accuracy: 0.9600\n",
      "Epoch 42/100\n",
      "4/4 [==============================] - 0s 34ms/step - loss: 4.2560e-04 - accuracy: 1.0000 - val_loss: 1.2962 - val_accuracy: 0.9600\n",
      "Epoch 43/100\n",
      "4/4 [==============================] - 0s 34ms/step - loss: 1.0588e-04 - accuracy: 1.0000 - val_loss: 1.2823 - val_accuracy: 0.9600\n",
      "Epoch 44/100\n",
      "4/4 [==============================] - 0s 34ms/step - loss: 3.3119e-05 - accuracy: 1.0000 - val_loss: 1.3016 - val_accuracy: 0.9600\n",
      "Epoch 45/100\n",
      "4/4 [==============================] - 0s 34ms/step - loss: 2.6461e-05 - accuracy: 1.0000 - val_loss: 1.3208 - val_accuracy: 0.9600\n",
      "Epoch 46/100\n",
      "4/4 [==============================] - 0s 34ms/step - loss: 6.4723e-05 - accuracy: 1.0000 - val_loss: 1.3439 - val_accuracy: 0.9600\n",
      "Epoch 47/100\n",
      "4/4 [==============================] - 0s 34ms/step - loss: 5.1443e-06 - accuracy: 1.0000 - val_loss: 1.4062 - val_accuracy: 0.9600\n",
      "Epoch 48/100\n",
      "4/4 [==============================] - 0s 34ms/step - loss: 6.4063e-06 - accuracy: 1.0000 - val_loss: 1.4353 - val_accuracy: 0.9600\n",
      "Epoch 49/100\n",
      "4/4 [==============================] - 0s 34ms/step - loss: 4.3872e-06 - accuracy: 1.0000 - val_loss: 1.4546 - val_accuracy: 0.9600\n",
      "Epoch 50/100\n",
      "4/4 [==============================] - 0s 34ms/step - loss: 2.9388e-05 - accuracy: 1.0000 - val_loss: 1.4706 - val_accuracy: 0.9600\n",
      "Epoch 51/100\n",
      "4/4 [==============================] - 0s 34ms/step - loss: 2.4981e-05 - accuracy: 1.0000 - val_loss: 1.4832 - val_accuracy: 0.9600\n",
      "Epoch 52/100\n",
      "4/4 [==============================] - 0s 34ms/step - loss: 1.3702e-05 - accuracy: 1.0000 - val_loss: 1.4893 - val_accuracy: 0.9600\n",
      "Epoch 53/100\n",
      "4/4 [==============================] - 0s 34ms/step - loss: 2.1720e-05 - accuracy: 1.0000 - val_loss: 1.4861 - val_accuracy: 0.9600\n",
      "Epoch 54/100\n",
      "4/4 [==============================] - 0s 35ms/step - loss: 7.1823e-06 - accuracy: 1.0000 - val_loss: 1.4841 - val_accuracy: 0.9600\n",
      "Epoch 55/100\n",
      "4/4 [==============================] - 0s 35ms/step - loss: 3.3066e-05 - accuracy: 1.0000 - val_loss: 1.4832 - val_accuracy: 0.9600\n",
      "Epoch 56/100\n",
      "4/4 [==============================] - 0s 35ms/step - loss: 3.7850e-06 - accuracy: 1.0000 - val_loss: 1.4855 - val_accuracy: 0.9600\n",
      "Epoch 57/100\n",
      "4/4 [==============================] - 0s 34ms/step - loss: 3.3618e-05 - accuracy: 1.0000 - val_loss: 1.4936 - val_accuracy: 0.9600\n",
      "Epoch 58/100\n",
      "4/4 [==============================] - 0s 35ms/step - loss: 4.3860e-06 - accuracy: 1.0000 - val_loss: 1.5024 - val_accuracy: 0.9600\n",
      "Epoch 59/100\n",
      "4/4 [==============================] - 0s 35ms/step - loss: 6.8938e-06 - accuracy: 1.0000 - val_loss: 1.5993 - val_accuracy: 0.9600\n",
      "Epoch 60/100\n",
      "4/4 [==============================] - 0s 35ms/step - loss: 1.1680e-05 - accuracy: 1.0000 - val_loss: 1.7078 - val_accuracy: 0.9600\n",
      "Epoch 61/100\n",
      "4/4 [==============================] - 0s 34ms/step - loss: 2.4773e-06 - accuracy: 1.0000 - val_loss: 1.8000 - val_accuracy: 0.9600\n",
      "Epoch 62/100\n",
      "4/4 [==============================] - 0s 35ms/step - loss: 1.9233e-06 - accuracy: 1.0000 - val_loss: 1.8587 - val_accuracy: 0.9600\n",
      "Epoch 63/100\n",
      "4/4 [==============================] - 0s 35ms/step - loss: 3.6500e-07 - accuracy: 1.0000 - val_loss: 1.8973 - val_accuracy: 0.9600\n",
      "Epoch 64/100\n",
      "4/4 [==============================] - 0s 35ms/step - loss: 2.4836e-06 - accuracy: 1.0000 - val_loss: 1.9235 - val_accuracy: 0.9600\n",
      "Epoch 65/100\n",
      "4/4 [==============================] - 0s 35ms/step - loss: 6.5135e-06 - accuracy: 1.0000 - val_loss: 1.9436 - val_accuracy: 0.9600\n",
      "Epoch 66/100\n",
      "4/4 [==============================] - 0s 34ms/step - loss: 7.8161e-07 - accuracy: 1.0000 - val_loss: 1.9552 - val_accuracy: 0.9600\n",
      "Epoch 67/100\n",
      "4/4 [==============================] - 0s 34ms/step - loss: 2.7160e-07 - accuracy: 1.0000 - val_loss: 1.9622 - val_accuracy: 0.9600\n",
      "Epoch 68/100\n",
      "4/4 [==============================] - 0s 35ms/step - loss: 1.8814e-06 - accuracy: 1.0000 - val_loss: 1.9682 - val_accuracy: 0.9600\n",
      "Epoch 69/100\n",
      "4/4 [==============================] - 0s 35ms/step - loss: 1.4748e-07 - accuracy: 1.0000 - val_loss: 1.9721 - val_accuracy: 0.9600\n",
      "Epoch 70/100\n",
      "4/4 [==============================] - 0s 36ms/step - loss: 5.2353e-07 - accuracy: 1.0000 - val_loss: 1.9737 - val_accuracy: 0.9600\n",
      "Epoch 71/100\n",
      "4/4 [==============================] - 0s 35ms/step - loss: 2.2428e-06 - accuracy: 1.0000 - val_loss: 1.9732 - val_accuracy: 0.9600\n",
      "Epoch 72/100\n",
      "4/4 [==============================] - 0s 35ms/step - loss: 2.6177e-07 - accuracy: 1.0000 - val_loss: 1.9724 - val_accuracy: 0.9600\n",
      "Epoch 73/100\n",
      "4/4 [==============================] - 0s 36ms/step - loss: 2.6914e-07 - accuracy: 1.0000 - val_loss: 1.9720 - val_accuracy: 0.9600\n",
      "Epoch 74/100\n",
      "4/4 [==============================] - 0s 35ms/step - loss: 2.9480e-06 - accuracy: 1.0000 - val_loss: 1.9724 - val_accuracy: 0.9600\n",
      "Epoch 75/100\n",
      "4/4 [==============================] - 0s 34ms/step - loss: 3.1216e-07 - accuracy: 1.0000 - val_loss: 1.9727 - val_accuracy: 0.9600\n",
      "Epoch 76/100\n",
      "4/4 [==============================] - 0s 35ms/step - loss: 4.1047e-07 - accuracy: 1.0000 - val_loss: 1.9729 - val_accuracy: 0.9600\n",
      "Epoch 77/100\n",
      "4/4 [==============================] - 0s 35ms/step - loss: 3.2567e-07 - accuracy: 1.0000 - val_loss: 1.9729 - val_accuracy: 0.9600\n",
      "Epoch 78/100\n",
      "4/4 [==============================] - 0s 35ms/step - loss: 1.4870e-07 - accuracy: 1.0000 - val_loss: 1.9724 - val_accuracy: 0.9600\n",
      "Epoch 79/100\n",
      "4/4 [==============================] - 0s 33ms/step - loss: 1.5927e-06 - accuracy: 1.0000 - val_loss: 1.9718 - val_accuracy: 0.9600\n",
      "Epoch 80/100\n",
      "4/4 [==============================] - 0s 34ms/step - loss: 1.6750e-06 - accuracy: 1.0000 - val_loss: 1.9715 - val_accuracy: 0.9600\n",
      "Epoch 81/100\n",
      "4/4 [==============================] - 0s 34ms/step - loss: 2.1015e-07 - accuracy: 1.0000 - val_loss: 1.9714 - val_accuracy: 0.9600\n",
      "Epoch 82/100\n",
      "4/4 [==============================] - 0s 35ms/step - loss: 8.7256e-08 - accuracy: 1.0000 - val_loss: 1.9714 - val_accuracy: 0.9600\n",
      "Epoch 83/100\n",
      "4/4 [==============================] - 0s 35ms/step - loss: 1.3764e-07 - accuracy: 1.0000 - val_loss: 1.9714 - val_accuracy: 0.9600\n",
      "Epoch 84/100\n",
      "4/4 [==============================] - 0s 35ms/step - loss: 1.8249e-06 - accuracy: 1.0000 - val_loss: 1.9782 - val_accuracy: 0.9600\n",
      "Epoch 85/100\n",
      "4/4 [==============================] - 0s 35ms/step - loss: 6.0095e-07 - accuracy: 1.0000 - val_loss: 2.0099 - val_accuracy: 0.9600\n",
      "Epoch 86/100\n",
      "4/4 [==============================] - 0s 34ms/step - loss: 8.8485e-08 - accuracy: 1.0000 - val_loss: 2.0269 - val_accuracy: 0.9600\n",
      "Epoch 87/100\n",
      "4/4 [==============================] - 0s 35ms/step - loss: 6.7593e-08 - accuracy: 1.0000 - val_loss: 2.0401 - val_accuracy: 0.9600\n",
      "Epoch 88/100\n",
      "4/4 [==============================] - 0s 34ms/step - loss: 5.1862e-07 - accuracy: 1.0000 - val_loss: 2.0509 - val_accuracy: 0.9600\n",
      "Epoch 89/100\n",
      "4/4 [==============================] - 0s 34ms/step - loss: 1.3764e-07 - accuracy: 1.0000 - val_loss: 2.0591 - val_accuracy: 0.9600\n",
      "Epoch 90/100\n",
      "4/4 [==============================] - 0s 35ms/step - loss: 4.7806e-07 - accuracy: 1.0000 - val_loss: 2.0602 - val_accuracy: 0.9600\n",
      "Epoch 91/100\n",
      "4/4 [==============================] - 0s 35ms/step - loss: 2.1507e-07 - accuracy: 1.0000 - val_loss: 2.0519 - val_accuracy: 0.9600\n",
      "Epoch 92/100\n",
      "4/4 [==============================] - 0s 35ms/step - loss: 7.4856e-06 - accuracy: 1.0000 - val_loss: 2.0828 - val_accuracy: 0.9600\n",
      "Epoch 93/100\n",
      "4/4 [==============================] - 0s 35ms/step - loss: 6.3536e-07 - accuracy: 1.0000 - val_loss: 2.0623 - val_accuracy: 0.9600\n",
      "Epoch 94/100\n",
      "4/4 [==============================] - 0s 34ms/step - loss: 3.7737e-06 - accuracy: 1.0000 - val_loss: 1.9965 - val_accuracy: 0.9600\n",
      "Epoch 95/100\n",
      "4/4 [==============================] - 0s 34ms/step - loss: 5.9235e-07 - accuracy: 1.0000 - val_loss: 1.9472 - val_accuracy: 0.9600\n",
      "Epoch 96/100\n",
      "4/4 [==============================] - 0s 35ms/step - loss: 3.4042e-07 - accuracy: 1.0000 - val_loss: 1.9031 - val_accuracy: 0.9600\n",
      "Epoch 97/100\n",
      "4/4 [==============================] - 0s 35ms/step - loss: 1.9786e-07 - accuracy: 1.0000 - val_loss: 1.8738 - val_accuracy: 0.9600\n",
      "Epoch 98/100\n",
      "4/4 [==============================] - 0s 35ms/step - loss: 2.1753e-07 - accuracy: 1.0000 - val_loss: 1.8542 - val_accuracy: 0.9600\n",
      "Epoch 99/100\n",
      "4/4 [==============================] - 0s 35ms/step - loss: 4.6577e-07 - accuracy: 1.0000 - val_loss: 1.8408 - val_accuracy: 0.9600\n",
      "Epoch 100/100\n",
      "4/4 [==============================] - 0s 35ms/step - loss: 4.1661e-07 - accuracy: 1.0000 - val_loss: 1.8303 - val_accuracy: 0.9600\n"
     ]
    }
   ],
   "source": [
    "model.compile(loss='categorical_crossentropy', optimizer='adam', metrics=['accuracy'])  \n",
    "\n",
    "start_time = time.time()\n",
    "# 開始訓練  \n",
    "train_history = model.fit(X_train,Y_train,validation_split=0.2,epochs=100, batch_size=30, verbose=1)\n",
    "end_time = time.time()"
   ]
  },
  {
   "cell_type": "code",
   "execution_count": 19,
   "id": "e31c10ea",
   "metadata": {},
   "outputs": [
    {
     "name": "stdout",
     "output_type": "stream",
     "text": [
      "執行時間:  18.789623737335205 s\n"
     ]
    }
   ],
   "source": [
    "execution_time = (end_time - start_time)\n",
    "print(\"執行時間: \",execution_time,\"s\")"
   ]
  },
  {
   "cell_type": "code",
   "execution_count": 20,
   "id": "1564b01f",
   "metadata": {},
   "outputs": [
    {
     "data": {
      "image/png": "[encoded data removed]",
      "text/plain": [
       "<Figure size 864x288 with 2 Axes>"
      ]
     },
     "metadata": {
      "needs_background": "light"
     },
     "output_type": "display_data"
    }
   ],
   "source": [
    "f, (ax1, ax2) = plt.subplots(1, 2, figsize=(12, 4))\n",
    "t = f.suptitle('class model evaluate', fontsize=12)\n",
    "f.subplots_adjust(top=0.85, wspace=0.3)\n",
    "\n",
    "class_epoch_list = list(range(1,101))\n",
    "ax1.plot(class_epoch_list, train_history.history['accuracy'], label='class_Train Accuracy')\n",
    "ax1.plot(class_epoch_list, train_history.history['val_accuracy'], label='class_Validation Accuracy')\n",
    "ax1.set_xticks(np.arange(0, 101, 5))\n",
    "ax1.set_ylabel('class_Accuracy Value')\n",
    "ax1.set_xlabel('class_Epoch')\n",
    "ax1.set_title('class_Accuracy')\n",
    "l1 = ax1.legend(loc=\"best\")\n",
    "\n",
    "ax2.plot(class_epoch_list, train_history.history['loss'], label='class_Train Loss')\n",
    "ax2.plot(class_epoch_list, train_history.history['val_loss'], label='class_Validation Loss')\n",
    "ax2.set_xticks(np.arange(0, 101, 5))\n",
    "ax2.set_ylabel('class_Loss Value')\n",
    "ax2.set_xlabel('class_Epoch')\n",
    "ax2.set_title('class_Loss')\n",
    "l2 = ax2.legend(loc=\"best\")"
   ]
  },
  {
   "cell_type": "code",
   "execution_count": 20,
   "id": "21bd63de",
   "metadata": {},
   "outputs": [],
   "source": [
    "#model.save('2d_cnn_transfer_vgg16_4class-1.h5')"
   ]
  },
  {
   "cell_type": "code",
   "execution_count": 21,
   "id": "becd3763",
   "metadata": {},
   "outputs": [],
   "source": [
    "modello = keras.models.load_model('2d_cnn_transfer_vgg16_4class-1.h5')"
   ]
  },
  {
   "cell_type": "code",
   "execution_count": 21,
   "id": "5e71e896",
   "metadata": {},
   "outputs": [
    {
     "name": "stdout",
     "output_type": "stream",
     "text": [
      "16/16 - 1s - 1s/epoch - 82ms/step\n"
     ]
    }
   ],
   "source": [
    "time_pre=model.predict(X_test,verbose=2)"
   ]
  },
  {
   "cell_type": "code",
   "execution_count": 22,
   "id": "f011ddce",
   "metadata": {},
   "outputs": [],
   "source": [
    "Y_test = np.argmax(Y_test,axis=1)\n",
    "Y_pred = np.argmax(time_pre,axis=1)"
   ]
  },
  {
   "cell_type": "code",
   "execution_count": 23,
   "id": "2d61fc07",
   "metadata": {},
   "outputs": [
    {
     "name": "stdout",
     "output_type": "stream",
     "text": [
      "              precision    recall  f1-score   support\n",
      "\n",
      "           0       0.92      0.91      0.92       247\n",
      "           1       0.79      0.67      0.72        69\n",
      "           2       0.88      0.94      0.91       127\n",
      "           3       0.78      0.81      0.79        47\n",
      "\n",
      "    accuracy                           0.88       490\n",
      "   macro avg       0.84      0.83      0.84       490\n",
      "weighted avg       0.88      0.88      0.88       490\n",
      "\n"
     ]
    },
    {
     "data": {
      "image/png": "[encoded data removed]",
      "text/plain": [
       "<Figure size 432x288 with 1 Axes>"
      ]
     },
     "metadata": {},
     "output_type": "display_data"
    }
   ],
   "source": [
    "mat = confusion_matrix(Y_test,Y_pred)\n",
    "\n",
    "sns.set(font_scale=1.5)\n",
    "plt.subplot(1,2,1)\n",
    "sns.heatmap(mat, square=True, annot=True, fmt='d', cbar=False)\n",
    "plt.xticks(fontsize=20)\n",
    "plt.yticks(fontsize=20)\n",
    "\n",
    "plt.ylabel('true label')\n",
    "plt.xlabel('predicted label');\n",
    "\n",
    "target_names = [\"0\",\"1\",\"2\",\"3\"]\n",
    "print(classification_report(Y_test,Y_pred,target_names=target_names))"
   ]
  },
  {
   "cell_type": "code",
   "execution_count": null,
   "id": "fc389c7a",
   "metadata": {},
   "outputs": [],
   "source": []
  }
 ],
 "metadata": {
  "kernelspec": {
   "display_name": "Python 3 (ipykernel)",
   "language": "python",
   "name": "python3"
  },
  "language_info": {
   "codemirror_mode": {
    "name": "ipython",
    "version": 3
   },
   "file_extension": ".py",
   "mimetype": "text/x-python",
   "name": "python",
   "nbconvert_exporter": "python",
   "pygments_lexer": "ipython3",
   "version": "3.8.11"
  }
 },
 "nbformat": 4,
 "nbformat_minor": 5
}
