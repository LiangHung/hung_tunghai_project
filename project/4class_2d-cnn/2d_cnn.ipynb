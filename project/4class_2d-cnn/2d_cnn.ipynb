{
 "cells": [
  {
   "cell_type": "code",
   "execution_count": 1,
   "id": "3e08e8a0",
   "metadata": {},
   "outputs": [],
   "source": [
    "import numpy as np\n",
    "import pandas as pd\n",
    "from keras.utils import np_utils\n",
    "import os\n",
    "import matplotlib.pyplot as plt\n",
    "import seaborn as sns\n",
    "import cv2\n",
    "import tensorflow\n",
    "from tensorflow.keras.models import Sequential\n",
    "from tensorflow.keras.layers import Dense,Dropout,Flatten,Conv2D,MaxPooling2D,BatchNormalization\n",
    "import time\n",
    "import keras\n",
    "from sklearn.metrics import confusion_matrix\n",
    "from sklearn.metrics import classification_report"
   ]
  },
  {
   "cell_type": "code",
   "execution_count": 2,
   "id": "b5610b35",
   "metadata": {},
   "outputs": [],
   "source": [
    "dirdata1='0_img/'\n",
    "dirdata2='1_img/'\n",
    "dirdata3='2_img/'\n",
    "dirdata4='3_img/'"
   ]
  },
  {
   "cell_type": "code",
   "execution_count": 3,
   "id": "1f197a46",
   "metadata": {},
   "outputs": [],
   "source": [
    "def data_img(dirdata1,dirdata2,dirdata3,dirdata4):\n",
    "    data = [] # 1 step\n",
    "    label = []\n",
    "    height=120\n",
    "    BLACK = [0,0,0]\n",
    "    for i in os.listdir(dirdata1): # 2 step\n",
    "        img = cv2.imread(dirdata1+i)\n",
    "        x,y,z = img.shape\n",
    "        if x<=height:\n",
    "            constant = cv2.copyMakeBorder(img,0,height-x,0,0,cv2.BORDER_CONSTANT,value=BLACK)\n",
    "        data.append(constant) # 2-2 \n",
    "        label.append(0) # 2-3\n",
    "    for i in os.listdir(dirdata2):\n",
    "        img = cv2.imread(dirdata2+i)\n",
    "        x,y,z = img.shape\n",
    "        if x<=height:\n",
    "            constant = cv2.copyMakeBorder(img,0,height-x,0,0,cv2.BORDER_CONSTANT,value=BLACK)\n",
    "        data.append(constant) # 2-2 \n",
    "        label.append(1) # 2-3\n",
    "        \n",
    "    for i in os.listdir(dirdata3):\n",
    "        img = cv2.imread(dirdata3+i)\n",
    "        x,y,z = img.shape\n",
    "        if x<=height:\n",
    "            constant = cv2.copyMakeBorder(img,0,height-x,0,0,cv2.BORDER_CONSTANT,value=BLACK)\n",
    "        data.append(constant) # 2-2 \n",
    "        label.append(2) # 2-3\n",
    "        \n",
    "    for i in os.listdir(dirdata4):\n",
    "        img = cv2.imread(dirdata4+i)\n",
    "        x,y,z = img.shape\n",
    "        if x<=height:\n",
    "            constant = cv2.copyMakeBorder(img,0,height-x,0,0,cv2.BORDER_CONSTANT,value=BLACK)\n",
    "        data.append(constant) # 2-2 \n",
    "        label.append(3) # 2-3\n",
    "        \n",
    "    data = np.array(data) # 3\n",
    "    label = np.array(label) #3\n",
    "\n",
    "    label_one_hot = np.eye(4)[label] # 4 one-hot encoding\n",
    "\n",
    "    data_norm = data / 255 #5\n",
    "    return data_norm,label_one_hot"
   ]
  },
  {
   "cell_type": "code",
   "execution_count": 4,
   "id": "5175eea4",
   "metadata": {},
   "outputs": [],
   "source": [
    "data, label=data_img(dirdata1,dirdata2,dirdata3,dirdata4)"
   ]
  },
  {
   "cell_type": "code",
   "execution_count": 5,
   "id": "082071e2",
   "metadata": {
    "scrolled": false
   },
   "outputs": [
    {
     "data": {
      "text/plain": [
       "array([[1., 0., 0., 0.],\n",
       "       [1., 0., 0., 0.],\n",
       "       [1., 0., 0., 0.],\n",
       "       ...,\n",
       "       [0., 0., 0., 1.],\n",
       "       [0., 0., 0., 1.],\n",
       "       [0., 0., 0., 1.]])"
      ]
     },
     "execution_count": 5,
     "metadata": {},
     "output_type": "execute_result"
    }
   ],
   "source": [
    "label"
   ]
  },
  {
   "cell_type": "code",
   "execution_count": 6,
   "id": "395c1e80",
   "metadata": {},
   "outputs": [],
   "source": [
    "from sklearn.model_selection import train_test_split\n",
    "\n",
    "X_train, X_test, Y_train, Y_test = train_test_split(data, label, test_size=0.8, random_state=42)"
   ]
  },
  {
   "cell_type": "code",
   "execution_count": 7,
   "id": "ae863e05",
   "metadata": {},
   "outputs": [
    {
     "data": {
      "text/plain": [
       "(122, 120, 50, 3)"
      ]
     },
     "execution_count": 7,
     "metadata": {},
     "output_type": "execute_result"
    }
   ],
   "source": [
    "X_train.shape"
   ]
  },
  {
   "cell_type": "code",
   "execution_count": 8,
   "id": "a6cdf8bf",
   "metadata": {},
   "outputs": [],
   "source": [
    "model = Sequential()  \n",
    "model.add(Conv2D(filters=16,  kernel_size=(5,5),  padding='same',  input_shape=(data.shape[1],data.shape[2],data.shape[3]),  activation='relu'))  \n",
    "model.add(MaxPooling2D(pool_size=(2,2)))  \n",
    "model.add(Flatten())\n",
    "model.add(Dense(64, activation='relu'))\n",
    "model.add(Dropout(0.1))\n",
    "model.add(Dense(4, activation='softmax'))"
   ]
  },
  {
   "cell_type": "code",
   "execution_count": 9,
   "id": "7ff7f206",
   "metadata": {
    "scrolled": false
   },
   "outputs": [
    {
     "name": "stdout",
     "output_type": "stream",
     "text": [
      "Model: \"sequential\"\n",
      "_________________________________________________________________\n",
      " Layer (type)                Output Shape              Param #   \n",
      "=================================================================\n",
      " conv2d (Conv2D)             (None, 120, 50, 16)       1216      \n",
      "                                                                 \n",
      " max_pooling2d (MaxPooling2D  (None, 60, 25, 16)       0         \n",
      " )                                                               \n",
      "                                                                 \n",
      " flatten (Flatten)           (None, 24000)             0         \n",
      "                                                                 \n",
      " dense (Dense)               (None, 64)                1536064   \n",
      "                                                                 \n",
      " dropout (Dropout)           (None, 64)                0         \n",
      "                                                                 \n",
      " dense_1 (Dense)             (None, 4)                 260       \n",
      "                                                                 \n",
      "=================================================================\n",
      "Total params: 1,537,540\n",
      "Trainable params: 1,537,540\n",
      "Non-trainable params: 0\n",
      "_________________________________________________________________\n"
     ]
    }
   ],
   "source": [
    "model.summary()"
   ]
  },
  {
   "cell_type": "code",
   "execution_count": 10,
   "id": "5c2b3074",
   "metadata": {
    "scrolled": true
   },
   "outputs": [
    {
     "name": "stdout",
     "output_type": "stream",
     "text": [
      "Epoch 1/100\n",
      "4/4 [==============================] - 2s 62ms/step - loss: 3.0600 - accuracy: 0.3093 - val_loss: 2.0389 - val_accuracy: 0.5600\n",
      "Epoch 2/100\n",
      "4/4 [==============================] - 0s 10ms/step - loss: 1.5665 - accuracy: 0.5670 - val_loss: 0.6739 - val_accuracy: 0.8400\n",
      "Epoch 3/100\n",
      "4/4 [==============================] - 0s 9ms/step - loss: 0.9121 - accuracy: 0.5979 - val_loss: 0.6021 - val_accuracy: 0.8000\n",
      "Epoch 4/100\n",
      "4/4 [==============================] - 0s 9ms/step - loss: 0.5430 - accuracy: 0.7835 - val_loss: 0.7691 - val_accuracy: 0.7200\n",
      "Epoch 5/100\n",
      "4/4 [==============================] - 0s 9ms/step - loss: 0.4398 - accuracy: 0.8660 - val_loss: 0.5770 - val_accuracy: 0.7600\n",
      "Epoch 6/100\n",
      "4/4 [==============================] - 0s 9ms/step - loss: 0.3700 - accuracy: 0.8144 - val_loss: 0.3960 - val_accuracy: 0.8800\n",
      "Epoch 7/100\n",
      "4/4 [==============================] - 0s 9ms/step - loss: 0.2950 - accuracy: 0.9381 - val_loss: 0.3951 - val_accuracy: 0.8800\n",
      "Epoch 8/100\n",
      "4/4 [==============================] - 0s 9ms/step - loss: 0.2133 - accuracy: 0.9691 - val_loss: 0.3467 - val_accuracy: 0.8800\n",
      "Epoch 9/100\n",
      "4/4 [==============================] - 0s 9ms/step - loss: 0.1911 - accuracy: 0.9691 - val_loss: 0.2812 - val_accuracy: 0.9200\n",
      "Epoch 10/100\n",
      "4/4 [==============================] - 0s 9ms/step - loss: 0.1202 - accuracy: 0.9691 - val_loss: 0.3106 - val_accuracy: 0.9200\n",
      "Epoch 11/100\n",
      "4/4 [==============================] - 0s 10ms/step - loss: 0.0858 - accuracy: 0.9794 - val_loss: 0.3150 - val_accuracy: 0.9200\n",
      "Epoch 12/100\n",
      "4/4 [==============================] - 0s 9ms/step - loss: 0.0720 - accuracy: 0.9897 - val_loss: 0.2676 - val_accuracy: 0.8800\n",
      "Epoch 13/100\n",
      "4/4 [==============================] - 0s 9ms/step - loss: 0.0573 - accuracy: 1.0000 - val_loss: 0.2644 - val_accuracy: 0.8800\n",
      "Epoch 14/100\n",
      "4/4 [==============================] - 0s 9ms/step - loss: 0.0419 - accuracy: 1.0000 - val_loss: 0.2874 - val_accuracy: 0.8800\n",
      "Epoch 15/100\n",
      "4/4 [==============================] - 0s 9ms/step - loss: 0.0342 - accuracy: 1.0000 - val_loss: 0.3057 - val_accuracy: 0.8800\n",
      "Epoch 16/100\n",
      "4/4 [==============================] - 0s 9ms/step - loss: 0.0393 - accuracy: 0.9897 - val_loss: 0.2952 - val_accuracy: 0.8800\n",
      "Epoch 17/100\n",
      "4/4 [==============================] - 0s 9ms/step - loss: 0.0161 - accuracy: 1.0000 - val_loss: 0.3012 - val_accuracy: 0.8800\n",
      "Epoch 18/100\n",
      "4/4 [==============================] - 0s 9ms/step - loss: 0.0159 - accuracy: 1.0000 - val_loss: 0.3300 - val_accuracy: 0.8800\n",
      "Epoch 19/100\n",
      "4/4 [==============================] - 0s 9ms/step - loss: 0.0232 - accuracy: 0.9897 - val_loss: 0.3428 - val_accuracy: 0.8800\n",
      "Epoch 20/100\n",
      "4/4 [==============================] - 0s 9ms/step - loss: 0.0139 - accuracy: 1.0000 - val_loss: 0.3652 - val_accuracy: 0.8800\n",
      "Epoch 21/100\n",
      "4/4 [==============================] - 0s 10ms/step - loss: 0.0103 - accuracy: 1.0000 - val_loss: 0.3658 - val_accuracy: 0.8800\n",
      "Epoch 22/100\n",
      "4/4 [==============================] - 0s 9ms/step - loss: 0.0074 - accuracy: 1.0000 - val_loss: 0.3461 - val_accuracy: 0.8800\n",
      "Epoch 23/100\n",
      "4/4 [==============================] - 0s 9ms/step - loss: 0.0152 - accuracy: 1.0000 - val_loss: 0.3460 - val_accuracy: 0.8800\n",
      "Epoch 24/100\n",
      "4/4 [==============================] - 0s 10ms/step - loss: 0.0104 - accuracy: 1.0000 - val_loss: 0.3716 - val_accuracy: 0.9200\n",
      "Epoch 25/100\n",
      "4/4 [==============================] - 0s 9ms/step - loss: 0.0155 - accuracy: 1.0000 - val_loss: 0.3469 - val_accuracy: 0.8400\n",
      "Epoch 26/100\n",
      "4/4 [==============================] - 0s 9ms/step - loss: 0.0159 - accuracy: 1.0000 - val_loss: 0.3492 - val_accuracy: 0.8400\n",
      "Epoch 27/100\n",
      "4/4 [==============================] - 0s 9ms/step - loss: 0.0074 - accuracy: 1.0000 - val_loss: 0.3522 - val_accuracy: 0.8800\n",
      "Epoch 28/100\n",
      "4/4 [==============================] - 0s 9ms/step - loss: 0.0094 - accuracy: 1.0000 - val_loss: 0.3704 - val_accuracy: 0.8800\n",
      "Epoch 29/100\n",
      "4/4 [==============================] - 0s 9ms/step - loss: 0.0089 - accuracy: 1.0000 - val_loss: 0.3887 - val_accuracy: 0.9200\n",
      "Epoch 30/100\n",
      "4/4 [==============================] - 0s 9ms/step - loss: 0.0066 - accuracy: 1.0000 - val_loss: 0.3595 - val_accuracy: 0.8800\n",
      "Epoch 31/100\n",
      "4/4 [==============================] - 0s 9ms/step - loss: 0.0161 - accuracy: 0.9897 - val_loss: 0.3129 - val_accuracy: 0.8800\n",
      "Epoch 32/100\n",
      "4/4 [==============================] - 0s 9ms/step - loss: 0.0082 - accuracy: 1.0000 - val_loss: 0.3282 - val_accuracy: 0.8800\n",
      "Epoch 33/100\n",
      "4/4 [==============================] - 0s 9ms/step - loss: 0.0071 - accuracy: 1.0000 - val_loss: 0.4184 - val_accuracy: 0.9200\n",
      "Epoch 34/100\n",
      "4/4 [==============================] - 0s 9ms/step - loss: 0.0061 - accuracy: 1.0000 - val_loss: 0.5125 - val_accuracy: 0.8800\n",
      "Epoch 35/100\n",
      "4/4 [==============================] - 0s 9ms/step - loss: 0.0035 - accuracy: 1.0000 - val_loss: 0.5356 - val_accuracy: 0.8800\n",
      "Epoch 36/100\n",
      "4/4 [==============================] - 0s 9ms/step - loss: 0.0137 - accuracy: 0.9897 - val_loss: 0.4309 - val_accuracy: 0.8400\n",
      "Epoch 37/100\n",
      "4/4 [==============================] - 0s 9ms/step - loss: 0.0070 - accuracy: 1.0000 - val_loss: 0.3831 - val_accuracy: 0.8400\n",
      "Epoch 38/100\n",
      "4/4 [==============================] - 0s 9ms/step - loss: 0.0056 - accuracy: 1.0000 - val_loss: 0.3528 - val_accuracy: 0.8400\n",
      "Epoch 39/100\n",
      "4/4 [==============================] - 0s 9ms/step - loss: 0.0055 - accuracy: 1.0000 - val_loss: 0.3595 - val_accuracy: 0.8400\n",
      "Epoch 40/100\n",
      "4/4 [==============================] - 0s 9ms/step - loss: 0.0126 - accuracy: 1.0000 - val_loss: 0.4357 - val_accuracy: 0.8800\n",
      "Epoch 41/100\n",
      "4/4 [==============================] - 0s 9ms/step - loss: 0.0043 - accuracy: 1.0000 - val_loss: 0.4784 - val_accuracy: 0.8800\n",
      "Epoch 42/100\n",
      "4/4 [==============================] - 0s 9ms/step - loss: 0.0049 - accuracy: 1.0000 - val_loss: 0.4371 - val_accuracy: 0.9200\n",
      "Epoch 43/100\n",
      "4/4 [==============================] - 0s 9ms/step - loss: 0.0031 - accuracy: 1.0000 - val_loss: 0.3959 - val_accuracy: 0.9200\n",
      "Epoch 44/100\n",
      "4/4 [==============================] - 0s 9ms/step - loss: 0.0052 - accuracy: 1.0000 - val_loss: 0.3701 - val_accuracy: 0.8800\n",
      "Epoch 45/100\n",
      "4/4 [==============================] - 0s 9ms/step - loss: 0.0085 - accuracy: 1.0000 - val_loss: 0.3838 - val_accuracy: 0.8800\n",
      "Epoch 46/100\n",
      "4/4 [==============================] - 0s 10ms/step - loss: 0.0020 - accuracy: 1.0000 - val_loss: 0.3967 - val_accuracy: 0.8800\n",
      "Epoch 47/100\n",
      "4/4 [==============================] - 0s 9ms/step - loss: 0.0054 - accuracy: 1.0000 - val_loss: 0.3943 - val_accuracy: 0.8800\n",
      "Epoch 48/100\n",
      "4/4 [==============================] - 0s 9ms/step - loss: 0.0020 - accuracy: 1.0000 - val_loss: 0.3966 - val_accuracy: 0.8800\n",
      "Epoch 49/100\n",
      "4/4 [==============================] - 0s 9ms/step - loss: 0.0049 - accuracy: 1.0000 - val_loss: 0.4092 - val_accuracy: 0.8800\n",
      "Epoch 50/100\n",
      "4/4 [==============================] - 0s 9ms/step - loss: 0.0019 - accuracy: 1.0000 - val_loss: 0.4416 - val_accuracy: 0.8800\n",
      "Epoch 51/100\n",
      "4/4 [==============================] - 0s 9ms/step - loss: 0.0013 - accuracy: 1.0000 - val_loss: 0.4638 - val_accuracy: 0.9200\n",
      "Epoch 52/100\n",
      "4/4 [==============================] - 0s 9ms/step - loss: 0.0040 - accuracy: 1.0000 - val_loss: 0.4514 - val_accuracy: 0.8800\n",
      "Epoch 53/100\n",
      "4/4 [==============================] - 0s 9ms/step - loss: 0.0046 - accuracy: 1.0000 - val_loss: 0.4521 - val_accuracy: 0.8800\n",
      "Epoch 54/100\n",
      "4/4 [==============================] - 0s 9ms/step - loss: 0.0032 - accuracy: 1.0000 - val_loss: 0.4204 - val_accuracy: 0.8800\n",
      "Epoch 55/100\n",
      "4/4 [==============================] - 0s 9ms/step - loss: 0.0101 - accuracy: 1.0000 - val_loss: 0.3909 - val_accuracy: 0.8800\n",
      "Epoch 56/100\n",
      "4/4 [==============================] - 0s 9ms/step - loss: 0.0015 - accuracy: 1.0000 - val_loss: 0.3755 - val_accuracy: 0.8800\n",
      "Epoch 57/100\n",
      "4/4 [==============================] - 0s 9ms/step - loss: 0.0019 - accuracy: 1.0000 - val_loss: 0.3894 - val_accuracy: 0.8800\n",
      "Epoch 58/100\n",
      "4/4 [==============================] - 0s 9ms/step - loss: 0.0019 - accuracy: 1.0000 - val_loss: 0.4076 - val_accuracy: 0.8800\n",
      "Epoch 59/100\n"
     ]
    },
    {
     "name": "stdout",
     "output_type": "stream",
     "text": [
      "4/4 [==============================] - 0s 9ms/step - loss: 0.0020 - accuracy: 1.0000 - val_loss: 0.4115 - val_accuracy: 0.8800\n",
      "Epoch 60/100\n",
      "4/4 [==============================] - 0s 9ms/step - loss: 0.0022 - accuracy: 1.0000 - val_loss: 0.4160 - val_accuracy: 0.8800\n",
      "Epoch 61/100\n",
      "4/4 [==============================] - 0s 9ms/step - loss: 0.0021 - accuracy: 1.0000 - val_loss: 0.4292 - val_accuracy: 0.8800\n",
      "Epoch 62/100\n",
      "4/4 [==============================] - 0s 9ms/step - loss: 0.0012 - accuracy: 1.0000 - val_loss: 0.4409 - val_accuracy: 0.8800\n",
      "Epoch 63/100\n",
      "4/4 [==============================] - 0s 9ms/step - loss: 0.0019 - accuracy: 1.0000 - val_loss: 0.4510 - val_accuracy: 0.8800\n",
      "Epoch 64/100\n",
      "4/4 [==============================] - 0s 9ms/step - loss: 0.0052 - accuracy: 1.0000 - val_loss: 0.4910 - val_accuracy: 0.9200\n",
      "Epoch 65/100\n",
      "4/4 [==============================] - 0s 9ms/step - loss: 0.0011 - accuracy: 1.0000 - val_loss: 0.5161 - val_accuracy: 0.9200\n",
      "Epoch 66/100\n",
      "4/4 [==============================] - 0s 9ms/step - loss: 6.8757e-04 - accuracy: 1.0000 - val_loss: 0.5299 - val_accuracy: 0.9200\n",
      "Epoch 67/100\n",
      "4/4 [==============================] - 0s 9ms/step - loss: 0.0016 - accuracy: 1.0000 - val_loss: 0.5170 - val_accuracy: 0.9200\n",
      "Epoch 68/100\n",
      "4/4 [==============================] - 0s 9ms/step - loss: 0.0010 - accuracy: 1.0000 - val_loss: 0.5006 - val_accuracy: 0.9200\n",
      "Epoch 69/100\n",
      "4/4 [==============================] - 0s 9ms/step - loss: 8.1164e-04 - accuracy: 1.0000 - val_loss: 0.4857 - val_accuracy: 0.9200\n",
      "Epoch 70/100\n",
      "4/4 [==============================] - 0s 9ms/step - loss: 0.0014 - accuracy: 1.0000 - val_loss: 0.4842 - val_accuracy: 0.9200\n",
      "Epoch 71/100\n",
      "4/4 [==============================] - 0s 9ms/step - loss: 0.0017 - accuracy: 1.0000 - val_loss: 0.4984 - val_accuracy: 0.9200\n",
      "Epoch 72/100\n",
      "4/4 [==============================] - 0s 9ms/step - loss: 0.0022 - accuracy: 1.0000 - val_loss: 0.5016 - val_accuracy: 0.9200\n",
      "Epoch 73/100\n",
      "4/4 [==============================] - 0s 9ms/step - loss: 0.0015 - accuracy: 1.0000 - val_loss: 0.4934 - val_accuracy: 0.9200\n",
      "Epoch 74/100\n",
      "4/4 [==============================] - 0s 10ms/step - loss: 0.0013 - accuracy: 1.0000 - val_loss: 0.4813 - val_accuracy: 0.8800\n",
      "Epoch 75/100\n",
      "4/4 [==============================] - 0s 9ms/step - loss: 6.7014e-04 - accuracy: 1.0000 - val_loss: 0.4686 - val_accuracy: 0.8800\n",
      "Epoch 76/100\n",
      "4/4 [==============================] - 0s 9ms/step - loss: 0.0014 - accuracy: 1.0000 - val_loss: 0.4637 - val_accuracy: 0.8800\n",
      "Epoch 77/100\n",
      "4/4 [==============================] - 0s 9ms/step - loss: 0.0089 - accuracy: 0.9897 - val_loss: 0.4727 - val_accuracy: 0.8800\n",
      "Epoch 78/100\n",
      "4/4 [==============================] - 0s 9ms/step - loss: 0.0084 - accuracy: 1.0000 - val_loss: 0.5825 - val_accuracy: 0.8800\n",
      "Epoch 79/100\n",
      "4/4 [==============================] - 0s 9ms/step - loss: 0.0013 - accuracy: 1.0000 - val_loss: 0.6817 - val_accuracy: 0.8800\n",
      "Epoch 80/100\n",
      "4/4 [==============================] - 0s 9ms/step - loss: 0.0029 - accuracy: 1.0000 - val_loss: 0.6874 - val_accuracy: 0.8800\n",
      "Epoch 81/100\n",
      "4/4 [==============================] - 0s 9ms/step - loss: 0.0018 - accuracy: 1.0000 - val_loss: 0.6429 - val_accuracy: 0.8800\n",
      "Epoch 82/100\n",
      "4/4 [==============================] - 0s 10ms/step - loss: 0.0012 - accuracy: 1.0000 - val_loss: 0.5900 - val_accuracy: 0.9200\n",
      "Epoch 83/100\n",
      "4/4 [==============================] - 0s 9ms/step - loss: 9.2762e-04 - accuracy: 1.0000 - val_loss: 0.5478 - val_accuracy: 0.9200\n",
      "Epoch 84/100\n",
      "4/4 [==============================] - ETA: 0s - loss: 9.9108e-04 - accuracy: 1.00 - 0s 9ms/step - loss: 8.9528e-04 - accuracy: 1.0000 - val_loss: 0.5208 - val_accuracy: 0.9200\n",
      "Epoch 85/100\n",
      "4/4 [==============================] - 0s 9ms/step - loss: 6.1131e-04 - accuracy: 1.0000 - val_loss: 0.4994 - val_accuracy: 0.9200\n",
      "Epoch 86/100\n",
      "4/4 [==============================] - 0s 9ms/step - loss: 8.2178e-04 - accuracy: 1.0000 - val_loss: 0.4832 - val_accuracy: 0.8800\n",
      "Epoch 87/100\n",
      "4/4 [==============================] - 0s 9ms/step - loss: 0.0021 - accuracy: 1.0000 - val_loss: 0.4720 - val_accuracy: 0.8800\n",
      "Epoch 88/100\n",
      "4/4 [==============================] - 0s 9ms/step - loss: 0.0011 - accuracy: 1.0000 - val_loss: 0.4790 - val_accuracy: 0.8800\n",
      "Epoch 89/100\n",
      "4/4 [==============================] - 0s 9ms/step - loss: 9.4793e-04 - accuracy: 1.0000 - val_loss: 0.4851 - val_accuracy: 0.8800\n",
      "Epoch 90/100\n",
      "4/4 [==============================] - 0s 9ms/step - loss: 4.0882e-04 - accuracy: 1.0000 - val_loss: 0.4915 - val_accuracy: 0.8800\n",
      "Epoch 91/100\n",
      "4/4 [==============================] - 0s 9ms/step - loss: 4.6230e-04 - accuracy: 1.0000 - val_loss: 0.4990 - val_accuracy: 0.8800\n",
      "Epoch 92/100\n",
      "4/4 [==============================] - 0s 9ms/step - loss: 6.2237e-04 - accuracy: 1.0000 - val_loss: 0.5111 - val_accuracy: 0.8800\n",
      "Epoch 93/100\n",
      "4/4 [==============================] - 0s 9ms/step - loss: 6.3463e-04 - accuracy: 1.0000 - val_loss: 0.5192 - val_accuracy: 0.8800\n",
      "Epoch 94/100\n",
      "4/4 [==============================] - 0s 9ms/step - loss: 8.0645e-04 - accuracy: 1.0000 - val_loss: 0.5267 - val_accuracy: 0.9200\n",
      "Epoch 95/100\n",
      "4/4 [==============================] - 0s 9ms/step - loss: 5.4985e-04 - accuracy: 1.0000 - val_loss: 0.5322 - val_accuracy: 0.9200\n",
      "Epoch 96/100\n",
      "4/4 [==============================] - 0s 9ms/step - loss: 8.2941e-04 - accuracy: 1.0000 - val_loss: 0.5365 - val_accuracy: 0.9200\n",
      "Epoch 97/100\n",
      "4/4 [==============================] - 0s 9ms/step - loss: 3.5016e-04 - accuracy: 1.0000 - val_loss: 0.5383 - val_accuracy: 0.9200\n",
      "Epoch 98/100\n",
      "4/4 [==============================] - 0s 9ms/step - loss: 3.8590e-04 - accuracy: 1.0000 - val_loss: 0.5399 - val_accuracy: 0.9200\n",
      "Epoch 99/100\n",
      "4/4 [==============================] - 0s 9ms/step - loss: 0.0033 - accuracy: 1.0000 - val_loss: 0.5260 - val_accuracy: 0.8800\n",
      "Epoch 100/100\n",
      "4/4 [==============================] - 0s 9ms/step - loss: 3.2116e-04 - accuracy: 1.0000 - val_loss: 0.5217 - val_accuracy: 0.8800\n"
     ]
    }
   ],
   "source": [
    "# 定義訓練方式  \n",
    "model.compile(loss='categorical_crossentropy', optimizer='adam', metrics=['accuracy'])  \n",
    "\n",
    "start_time = time.time()\n",
    "# 開始訓練  \n",
    "train_history = model.fit(X_train,Y_train,validation_split=0.2,epochs=100, batch_size=30, verbose=1)\n",
    "end_time = time.time()"
   ]
  },
  {
   "cell_type": "code",
   "execution_count": 11,
   "id": "905f3ce8",
   "metadata": {},
   "outputs": [
    {
     "name": "stdout",
     "output_type": "stream",
     "text": [
      "執行時間:  5.4112114906311035 s\n"
     ]
    }
   ],
   "source": [
    "execution_time = (end_time - start_time)\n",
    "print(\"執行時間: \",execution_time,\"s\")"
   ]
  },
  {
   "cell_type": "code",
   "execution_count": 12,
   "id": "45042c67",
   "metadata": {},
   "outputs": [
    {
     "data": {
      "image/png": "[encoded data removed]",
      "text/plain": [
       "<Figure size 864x288 with 2 Axes>"
      ]
     },
     "metadata": {
      "needs_background": "light"
     },
     "output_type": "display_data"
    }
   ],
   "source": [
    "f, (ax1, ax2) = plt.subplots(1, 2, figsize=(12, 4))\n",
    "t = f.suptitle('class model evaluate', fontsize=12)\n",
    "f.subplots_adjust(top=0.85, wspace=0.3)\n",
    "\n",
    "class_epoch_list = list(range(1,101))\n",
    "ax1.plot(class_epoch_list, train_history.history['accuracy'], label='class_Train Accuracy')\n",
    "ax1.plot(class_epoch_list, train_history.history['val_accuracy'], label='class_Validation Accuracy')\n",
    "ax1.set_xticks(np.arange(0, 101, 5))\n",
    "ax1.set_ylabel('class_Accuracy Value')\n",
    "ax1.set_xlabel('class_Epoch')\n",
    "ax1.set_title('class_Accuracy')\n",
    "l1 = ax1.legend(loc=\"best\")\n",
    "\n",
    "ax2.plot(class_epoch_list, train_history.history['loss'], label='class_Train Loss')\n",
    "ax2.plot(class_epoch_list, train_history.history['val_loss'], label='class_Validation Loss')\n",
    "ax2.set_xticks(np.arange(0, 101, 5))\n",
    "ax2.set_ylabel('class_Loss Value')\n",
    "ax2.set_xlabel('class_Epoch')\n",
    "ax2.set_title('class_Loss')\n",
    "l2 = ax2.legend(loc=\"best\")"
   ]
  },
  {
   "cell_type": "code",
   "execution_count": 13,
   "id": "2bf5fba1",
   "metadata": {},
   "outputs": [],
   "source": [
    "#model.save('2d_cnn_4class.h5')"
   ]
  },
  {
   "cell_type": "code",
   "execution_count": 34,
   "id": "9281d6a2",
   "metadata": {},
   "outputs": [],
   "source": [
    "modello = keras.models.load_model('2d_cnn_4class.h5')"
   ]
  },
  {
   "cell_type": "code",
   "execution_count": 13,
   "id": "c24589dc",
   "metadata": {},
   "outputs": [
    {
     "name": "stdout",
     "output_type": "stream",
     "text": [
      "16/16 - 0s - 111ms/epoch - 7ms/step\n"
     ]
    }
   ],
   "source": [
    "time_pre=model.predict(X_test,verbose=2)"
   ]
  },
  {
   "cell_type": "code",
   "execution_count": 14,
   "id": "8b092672",
   "metadata": {},
   "outputs": [],
   "source": [
    "Y_test = np.argmax(Y_test,axis=1)\n",
    "Y_pred = np.argmax(time_pre,axis=1)"
   ]
  },
  {
   "cell_type": "code",
   "execution_count": 15,
   "id": "12d9a0db",
   "metadata": {},
   "outputs": [
    {
     "name": "stdout",
     "output_type": "stream",
     "text": [
      "              precision    recall  f1-score   support\n",
      "\n",
      "           0       0.86      0.99      0.92       247\n",
      "           1       0.97      0.42      0.59        69\n",
      "           2       0.98      0.96      0.97       127\n",
      "           3       0.88      0.91      0.90        47\n",
      "\n",
      "    accuracy                           0.90       490\n",
      "   macro avg       0.92      0.82      0.84       490\n",
      "weighted avg       0.91      0.90      0.88       490\n",
      "\n"
     ]
    },
    {
     "data": {
      "image/png": "[encoded data removed]",
      "text/plain": [
       "<Figure size 432x288 with 1 Axes>"
      ]
     },
     "metadata": {},
     "output_type": "display_data"
    }
   ],
   "source": [
    "mat = confusion_matrix(Y_test,Y_pred)\n",
    "\n",
    "sns.set(font_scale=1.5)\n",
    "plt.subplot(1,2,1)\n",
    "sns.heatmap(mat, square=True, annot=True, fmt='d', cbar=False)\n",
    "plt.xticks(fontsize=20)\n",
    "plt.yticks(fontsize=20)\n",
    "\n",
    "plt.ylabel('true label')\n",
    "plt.xlabel('predicted label');\n",
    "\n",
    "target_names = [\"0\",\"1\",\"2\",\"3\"]\n",
    "print(classification_report(Y_test,Y_pred,target_names=target_names))"
   ]
  },
  {
   "cell_type": "code",
   "execution_count": null,
   "id": "8b2a842a",
   "metadata": {},
   "outputs": [],
   "source": []
  }
 ],
 "metadata": {
  "kernelspec": {
   "display_name": "Python 3 (ipykernel)",
   "language": "python",
   "name": "python3"
  },
  "language_info": {
   "codemirror_mode": {
    "name": "ipython",
    "version": 3
   },
   "file_extension": ".py",
   "mimetype": "text/x-python",
   "name": "python",
   "nbconvert_exporter": "python",
   "pygments_lexer": "ipython3",
   "version": "3.8.11"
  }
 },
 "nbformat": 4,
 "nbformat_minor": 5
}
