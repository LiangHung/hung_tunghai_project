{
 "cells": [
  {
   "cell_type": "code",
   "execution_count": 1,
   "id": "7eacd996",
   "metadata": {},
   "outputs": [],
   "source": [
    "import glob\n",
    "import numpy as np\n",
    "import os\n",
    "import shutil\n",
    "import numpy as np\n",
    "import matplotlib.pyplot as plt\n",
    "from keras.preprocessing.image import ImageDataGenerator, load_img, img_to_array, array_to_img\n",
    "import time\n",
    "import cv2"
   ]
  },
  {
   "cell_type": "code",
   "execution_count": 2,
   "id": "b6b88492",
   "metadata": {},
   "outputs": [],
   "source": [
    "def data_img(dirdata1):\n",
    "    data = [] # 1 step\n",
    "    label = []\n",
    "    height=120\n",
    "    BLACK = [0,0,0]\n",
    "    for i in os.listdir(dirdata1): # 2 step\n",
    "        img = cv2.imread(dirdata1+i)\n",
    "        x,y,z = img.shape\n",
    "        if x<=height:\n",
    "            constant = cv2.copyMakeBorder(img,0,height-x,0,0,cv2.BORDER_CONSTANT,value=BLACK)\n",
    "        data.append(constant) # 2-2 \n",
    "        label.append(0) # 2-3\n",
    "      \n",
    "    data = np.array(data) # 3\n",
    "    label = np.array(label) #3\n",
    "\n",
    "    label_one_hot = np.eye(4)[label] # 4 one-hot encoding\n",
    "\n",
    "    data_norm = data / 255 #5\n",
    "    return data_norm,label_one_hot"
   ]
  },
  {
   "cell_type": "code",
   "execution_count": 12,
   "id": "e0b42028",
   "metadata": {},
   "outputs": [],
   "source": [
    "#dirdata1='backhand_train_img/'\n",
    "dirdata1='forehand_train_img/'"
   ]
  },
  {
   "cell_type": "code",
   "execution_count": 13,
   "id": "6fde4dbf",
   "metadata": {},
   "outputs": [],
   "source": [
    "data=[]\n",
    "label=[]\n",
    "data, label=data_img(dirdata1)"
   ]
  },
  {
   "cell_type": "code",
   "execution_count": 14,
   "id": "5c0efaca",
   "metadata": {},
   "outputs": [
    {
     "data": {
      "text/plain": [
       "(240, 120, 50, 3)"
      ]
     },
     "execution_count": 14,
     "metadata": {},
     "output_type": "execute_result"
    }
   ],
   "source": [
    "data.shape"
   ]
  },
  {
   "cell_type": "code",
   "execution_count": 15,
   "id": "274cf76c",
   "metadata": {},
   "outputs": [],
   "source": [
    "train_datagen = ImageDataGenerator(rescale=1./255, \n",
    "                                   zoom_range=0.3, \n",
    "                                   rotation_range=60,\n",
    "                                   width_shift_range=0.2, \n",
    "                                   height_shift_range=0.2, \n",
    "                                   shear_range=0.2, \n",
    "                                   horizontal_flip=True, \n",
    "                                   fill_mode='nearest')"
   ]
  },
  {
   "cell_type": "code",
   "execution_count": 16,
   "id": "95a387cf",
   "metadata": {},
   "outputs": [],
   "source": [
    "data1=[]\n",
    "label1=[]"
   ]
  },
  {
   "cell_type": "code",
   "execution_count": 17,
   "id": "fd6a36c7",
   "metadata": {},
   "outputs": [],
   "source": [
    "for i in range(1,20):\n",
    "    train_generator = train_datagen.flow(data, label, batch_size=100)\n",
    "    for j in range(1,100):\n",
    "        data1.append(train_generator[0][0][j])\n",
    "        label1.append(train_generator[0][1][j])"
   ]
  },
  {
   "cell_type": "code",
   "execution_count": 18,
   "id": "81e2aca8",
   "metadata": {},
   "outputs": [],
   "source": [
    "data1 = np.array(data1) # 3\n",
    "label1 = np.array(label1) #3"
   ]
  },
  {
   "cell_type": "code",
   "execution_count": 19,
   "id": "973becaa",
   "metadata": {},
   "outputs": [
    {
     "data": {
      "text/plain": [
       "(1881, 120, 50, 3)"
      ]
     },
     "execution_count": 19,
     "metadata": {},
     "output_type": "execute_result"
    }
   ],
   "source": [
    "data1.shape"
   ]
  },
  {
   "cell_type": "code",
   "execution_count": 20,
   "id": "bf740cfb",
   "metadata": {},
   "outputs": [],
   "source": [
    "for i in range(0,data1.shape[0]):\n",
    "    x=array_to_img(data1[i])\n",
    "    x=np.clip(x,0,255).astype(np.uint8)\n",
    "    imgname='0_data/'+str(i)+'-1.jpg'\n",
    "    cv2.imwrite(imgname,x)"
   ]
  },
  {
   "cell_type": "code",
   "execution_count": null,
   "id": "c0f798f5",
   "metadata": {},
   "outputs": [],
   "source": []
  }
 ],
 "metadata": {
  "kernelspec": {
   "display_name": "Python 3 (ipykernel)",
   "language": "python",
   "name": "python3"
  },
  "language_info": {
   "codemirror_mode": {
    "name": "ipython",
    "version": 3
   },
   "file_extension": ".py",
   "mimetype": "text/x-python",
   "name": "python",
   "nbconvert_exporter": "python",
   "pygments_lexer": "ipython3",
   "version": "3.8.11"
  }
 },
 "nbformat": 4,
 "nbformat_minor": 5
}
