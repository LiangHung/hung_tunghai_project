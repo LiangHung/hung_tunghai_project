{
 "cells": [
  {
   "cell_type": "code",
   "execution_count": 1,
   "id": "upper-wisdom",
   "metadata": {},
   "outputs": [],
   "source": [
    "from numpy import mean\n",
    "from numpy import std\n",
    "from numpy import dstack\n",
    "from pandas import read_csv\n",
    "from matplotlib import pyplot\n",
    "from keras.models import Sequential\n",
    "from keras.layers import Dense\n",
    "from keras.layers import Flatten\n",
    "from keras.layers import Dropout\n",
    "from keras.layers import Input\n",
    "from keras.layers.convolutional import Conv1D\n",
    "from keras.layers.convolutional import MaxPooling1D\n",
    "from tensorflow.keras.utils import to_categorical\n",
    "import csv\n",
    "import os\n",
    "import numpy as np\n",
    "import matplotlib.pyplot as plt\n",
    "import seaborn as sns\n",
    "from sklearn.metrics import confusion_matrix\n",
    "from sklearn.metrics import classification_report\n",
    "import keras\n",
    "import time\n",
    "import math"
   ]
  },
  {
   "cell_type": "code",
   "execution_count": 2,
   "id": "7e7a92cc",
   "metadata": {},
   "outputs": [],
   "source": [
    "def acc(a):\n",
    "    a = np.array(a)\n",
    "    x,y=a.shape\n",
    "    for i in range(0,x-1):\n",
    "        for j in range(0,y):\n",
    "            a[i][j]=a[i+1][j]-a[i][j]\n",
    "    a=np.delete(a, -1, axis=0)\n",
    "    \n",
    "    return a"
   ]
  },
  {
   "cell_type": "code",
   "execution_count": 3,
   "id": "concerned-shuttle",
   "metadata": {},
   "outputs": [],
   "source": [
    "def res(arr,x,y):\n",
    "    zeroarray=np.zeros((1,y))\n",
    "    #print(arr.shape)\n",
    "    k=120-x+1\n",
    "    if x<=120:\n",
    "        for i in range(1,k):\n",
    "            arr = np.vstack((arr,zeroarray))      #重設矩陣大小\n",
    "    return arr"
   ]
  },
  {
   "cell_type": "code",
   "execution_count": 4,
   "id": "da76c25d",
   "metadata": {},
   "outputs": [],
   "source": [
    "def cal_ang(point1,point2,point3):\n",
    "    a=math.sqrt((point2[0]-point3[0])*(point2[0]-point3[0])+(point2[1]-point3[1])*(point2[1]-point3[1]))\n",
    "    b=math.sqrt((point1[0]-point3[0])*(point1[0]-point3[0])+(point1[1]-point3[1])*(point1[1]-point3[1]))\n",
    "    c=math.sqrt((point1[0]-point2[0])*(point1[0]-point2[0])+(point1[1]-point2[1])*(point1[1]-point2[1]))\n",
    "    A=math.degrees(math.acos((a*a-b*b-c*c)/(-2*b*c)))\n",
    "    B=math.degrees(math.acos((b*b-a*a-c*c)/(-2*a*c)))\n",
    "    C=math.degrees(math.acos((c*c-a*a-b*b)/(-2*a*b)))\n",
    "    \n",
    "    return B"
   ]
  },
  {
   "cell_type": "code",
   "execution_count": 5,
   "id": "apart-purpose",
   "metadata": {},
   "outputs": [],
   "source": [
    "#原始\n",
    "def data_all(dirdata1,dirdata2):\n",
    "    data = []\n",
    "    label=[]\n",
    "    max=120\n",
    "    for i in os.listdir(dirdata1):\n",
    "        npy_file = (dirdata1+i)\n",
    "        x=np.load(npy_file)\n",
    "        \n",
    "        a,b=x.shape\n",
    "        x=res(x,a,b)\n",
    "        x = np.array(x)\n",
    "        data.append(x)\n",
    "        label.append(0)\n",
    "    for i in os.listdir(dirdata2):\n",
    "        npy_file = (dirdata2+i)\n",
    "        x=np.load(npy_file)\n",
    "        \n",
    "        a,b=x.shape\n",
    "        x=res(x,a,b)\n",
    "        x = np.array(x)\n",
    "\n",
    "        data.append(x)\n",
    "        label.append(1)\n",
    "    \n",
    "    \n",
    "    data = np.array(data) # 3\n",
    "    label = np.array(label) #3\n",
    "    label = np.eye(2)[label]\n",
    "    \n",
    "    return data,label"
   ]
  },
  {
   "cell_type": "code",
   "execution_count": 6,
   "id": "indie-crystal",
   "metadata": {},
   "outputs": [],
   "source": [
    "#刪減\n",
    "def data_new(dirdata1,dirdata2):\n",
    "    data = []\n",
    "    label=[]\n",
    "    max=120\n",
    "    for i in os.listdir(dirdata1):\n",
    "        npy_file = (dirdata1+i)\n",
    "        x=np.load(npy_file)\n",
    "        x=np.delete(x, [30,31,32,33,34,35,36,37,40,41,42,43,46,47,48,49], axis=1)\n",
    "        #移除15,16,17,18,20,21,23,24點位\n",
    "        a,b=x.shape\n",
    "        x=res(x,a,b)\n",
    "        x = np.array(x)\n",
    "        data.append(x)\n",
    "        label.append(0)\n",
    "    for i in os.listdir(dirdata2):\n",
    "        npy_file = (dirdata2+i)\n",
    "        x=np.load(npy_file)\n",
    "        x=np.delete(x, [30,31,32,33,34,35,36,37,40,41,42,43,46,47,48,49], axis=1)\n",
    "        a,b=x.shape\n",
    "        x=res(x,a,b)\n",
    "        x = np.array(x)\n",
    "\n",
    "        data.append(x)\n",
    "        label.append(1)\n",
    "    \n",
    "    \n",
    "    data = np.array(data) # 3\n",
    "    label = np.array(label) #3\n",
    "    label = np.eye(2)[label]\n",
    "    \n",
    "    return data,label"
   ]
  },
  {
   "cell_type": "code",
   "execution_count": 7,
   "id": "b06b8bb7",
   "metadata": {},
   "outputs": [],
   "source": [
    "#加速度\n",
    "def data_acc(dirdata1,dirdata2):\n",
    "    data = []\n",
    "    label=[]\n",
    "    max=120\n",
    "    for i in os.listdir(dirdata1):\n",
    "        npy_file = (dirdata1+i)\n",
    "        x=np.load(npy_file)\n",
    "        x=acc(acc(x))\n",
    "        a,b=x.shape\n",
    "        x=res(x,a,b)\n",
    "        x = np.array(x)\n",
    "        data.append(x)\n",
    "        label.append(0)\n",
    "    for i in os.listdir(dirdata2):\n",
    "        npy_file = (dirdata2+i)\n",
    "        x=np.load(npy_file)\n",
    "        x=acc(acc(x))\n",
    "        a,b=x.shape\n",
    "        x=res(x,a,b)\n",
    "        x = np.array(x)\n",
    "        data.append(x)\n",
    "        label.append(1)\n",
    "    data = np.array(data) # 3\n",
    "    label = np.array(label) #3\n",
    "    label = np.eye(2)[label]\n",
    "    \n",
    "    return data,label"
   ]
  },
  {
   "cell_type": "code",
   "execution_count": 8,
   "id": "2751d89f",
   "metadata": {},
   "outputs": [],
   "source": [
    "#角度\n",
    "def data_ang(dirdata1,dirdata2):\n",
    "    data = []\n",
    "    label=[]\n",
    "    max=120\n",
    "    for i in os.listdir(dirdata1):\n",
    "        npy_file = (dirdata1+i)\n",
    "        x=np.load(npy_file)\n",
    "        \n",
    "        a,b=x.shape\n",
    "        register=[]\n",
    "        for i in range(0,a-1):\n",
    "            #取得角度\n",
    "            ang=[cal_ang((x[i][4],x[i][5]),(x[i][6],x[i][7]),(x[i][8],x[i][9])),cal_ang((x[i][2],x[i][3]),(x[i][4],x[i][5]),(x[i][6],x[i][7]))]\n",
    "            if i==0:\n",
    "                register=ang\n",
    "            else:\n",
    "                register = np.vstack((register,ang))\n",
    "        \n",
    "        a,b=register.shape\n",
    "        #重設大小\n",
    "        x=res(register,a,b)\n",
    "        x = np.array(x)\n",
    "        data.append(x)\n",
    "        label.append(0)\n",
    "    for i in os.listdir(dirdata2):\n",
    "        npy_file = (dirdata2+i)\n",
    "        x=np.load(npy_file)\n",
    "        a,b=x.shape\n",
    "        register=[]\n",
    "        for i in range(0,a-1):\n",
    "            #取得角度\n",
    "            ang=[cal_ang((x[i][4],x[i][5]),(x[i][6],x[i][7]),(x[i][8],x[i][9])),cal_ang((x[i][2],x[i][3]),(x[i][4],x[i][5]),(x[i][6],x[i][7]))]\n",
    "            if i==0:\n",
    "                register=ang\n",
    "            else:\n",
    "                register = np.vstack((register,ang))\n",
    "        \n",
    "        a,b=register.shape\n",
    "        #重設大小\n",
    "        x=res(register,a,b)\n",
    "        x = np.array(x)\n",
    "        data.append(x)\n",
    "        label.append(1)\n",
    "    \n",
    "    \n",
    "    data = np.array(data) # 3\n",
    "    label = np.array(label) #3\n",
    "    label = np.eye(2)[label]\n",
    "    \n",
    "    return data,label"
   ]
  },
  {
   "cell_type": "code",
   "execution_count": 9,
   "id": "eea1315d",
   "metadata": {},
   "outputs": [],
   "source": [
    "dirdata1='正手訓/'\n",
    "dirdata2='反手訓/'"
   ]
  },
  {
   "cell_type": "code",
   "execution_count": 10,
   "id": "antique-charity",
   "metadata": {},
   "outputs": [],
   "source": [
    "data,label=data_acc(dirdata1,dirdata2)"
   ]
  },
  {
   "cell_type": "code",
   "execution_count": 11,
   "id": "approximate-support",
   "metadata": {},
   "outputs": [],
   "source": [
    "from sklearn.model_selection import train_test_split\n",
    "X_train, X_test, Y_train, Y_test = train_test_split(data, label, test_size=0.33, random_state=42)"
   ]
  },
  {
   "cell_type": "code",
   "execution_count": 16,
   "id": "9e2936ac",
   "metadata": {},
   "outputs": [
    {
     "data": {
      "text/plain": [
       "(294, 120, 50)"
      ]
     },
     "execution_count": 16,
     "metadata": {},
     "output_type": "execute_result"
    }
   ],
   "source": [
    "X_train.shape"
   ]
  },
  {
   "cell_type": "code",
   "execution_count": 17,
   "id": "conservative-dubai",
   "metadata": {},
   "outputs": [
    {
     "data": {
      "text/plain": [
       "(440, 120, 50)"
      ]
     },
     "execution_count": 17,
     "metadata": {},
     "output_type": "execute_result"
    }
   ],
   "source": [
    "data.shape"
   ]
  },
  {
   "cell_type": "code",
   "execution_count": 14,
   "id": "09eb24f5",
   "metadata": {},
   "outputs": [],
   "source": [
    "x=np.load('正手訓/IMG_0734-48.npy')"
   ]
  },
  {
   "cell_type": "code",
   "execution_count": 15,
   "id": "d6585ffc",
   "metadata": {},
   "outputs": [
    {
     "name": "stdout",
     "output_type": "stream",
     "text": [
      "(82, 50)\n",
      "[[ 945.2158    127.07994   874.67053  ... 1045.2557    736.303\n",
      "   998.1963  ]\n",
      " [ 945.21924   127.1266    874.60626  ... 1045.2272    736.2855\n",
      "   998.18915 ]\n",
      " [ 942.2864    127.032646  874.6234   ... 1042.4469    736.32477\n",
      "   998.1998  ]\n",
      " ...\n",
      " [ 989.4468    129.94344   907.1098   ... 1045.2844    739.1518\n",
      "   998.2711  ]\n",
      " [ 986.5149    129.88577   907.0568   ... 1045.2931    736.2974\n",
      "   998.2078  ]\n",
      " [ 986.43616   129.93446   907.03735  ... 1045.2872    736.28345\n",
      "   998.22864 ]]\n"
     ]
    }
   ],
   "source": [
    "print(x.shape)\n",
    "print(x)"
   ]
  },
  {
   "cell_type": "code",
   "execution_count": 20,
   "id": "bf49dbee",
   "metadata": {},
   "outputs": [],
   "source": [
    "#建立模型\n",
    "model = Sequential()\n",
    "model.add(Conv1D(filters=64, kernel_size=3, activation='relu', input_shape=(data.shape[1],data.shape[2])))\n",
    "model.add(Conv1D(filters=64, kernel_size=3, activation='relu'))\n",
    "model.add(Dropout(0.5))\n",
    "model.add(MaxPooling1D(pool_size=2))\n",
    "model.add(Flatten())\n",
    "model.add(Dense(100, activation='relu'))\n",
    "model.add(Dense(2, activation='softmax'))\n",
    "model.compile(loss='categorical_crossentropy', optimizer='adam', metrics=['accuracy'])"
   ]
  },
  {
   "cell_type": "code",
   "execution_count": 21,
   "id": "foreign-tutorial",
   "metadata": {},
   "outputs": [
    {
     "name": "stdout",
     "output_type": "stream",
     "text": [
      "Model: \"sequential\"\n",
      "_________________________________________________________________\n",
      " Layer (type)                Output Shape              Param #   \n",
      "=================================================================\n",
      " conv1d (Conv1D)             (None, 118, 64)           9664      \n",
      "                                                                 \n",
      " conv1d_1 (Conv1D)           (None, 116, 64)           12352     \n",
      "                                                                 \n",
      " dropout (Dropout)           (None, 116, 64)           0         \n",
      "                                                                 \n",
      " max_pooling1d (MaxPooling1D  (None, 58, 64)           0         \n",
      " )                                                               \n",
      "                                                                 \n",
      " flatten (Flatten)           (None, 3712)              0         \n",
      "                                                                 \n",
      " dense (Dense)               (None, 100)               371300    \n",
      "                                                                 \n",
      " dense_1 (Dense)             (None, 2)                 202       \n",
      "                                                                 \n",
      "=================================================================\n",
      "Total params: 393,518\n",
      "Trainable params: 393,518\n",
      "Non-trainable params: 0\n",
      "_________________________________________________________________\n"
     ]
    }
   ],
   "source": [
    "model.summary()"
   ]
  },
  {
   "cell_type": "code",
   "execution_count": 18,
   "id": "invisible-collector",
   "metadata": {},
   "outputs": [
    {
     "name": "stdout",
     "output_type": "stream",
     "text": [
      "Epoch 1/100\n",
      "8/8 [==============================] - 4s 52ms/step - loss: 12.0158 - accuracy: 0.5660 - val_loss: 9.1306 - val_accuracy: 0.6102\n",
      "Epoch 2/100\n",
      "8/8 [==============================] - 0s 6ms/step - loss: 7.1832 - accuracy: 0.7872 - val_loss: 6.1980 - val_accuracy: 0.6441\n",
      "Epoch 3/100\n",
      "8/8 [==============================] - 0s 6ms/step - loss: 1.9064 - accuracy: 0.7404 - val_loss: 6.0681 - val_accuracy: 0.5932\n",
      "Epoch 4/100\n",
      "8/8 [==============================] - 0s 5ms/step - loss: 0.5361 - accuracy: 0.8298 - val_loss: 2.7924 - val_accuracy: 0.7627\n",
      "Epoch 5/100\n",
      "8/8 [==============================] - 0s 6ms/step - loss: 0.2733 - accuracy: 0.9362 - val_loss: 1.5835 - val_accuracy: 0.8475\n",
      "Epoch 6/100\n",
      "8/8 [==============================] - 0s 6ms/step - loss: 0.2197 - accuracy: 0.9574 - val_loss: 1.6389 - val_accuracy: 0.9153\n",
      "Epoch 7/100\n",
      "8/8 [==============================] - 0s 5ms/step - loss: 0.0604 - accuracy: 0.9915 - val_loss: 1.7870 - val_accuracy: 0.9322\n",
      "Epoch 8/100\n",
      "8/8 [==============================] - 0s 6ms/step - loss: 0.0588 - accuracy: 0.9872 - val_loss: 1.7008 - val_accuracy: 0.9492\n",
      "Epoch 9/100\n",
      "8/8 [==============================] - 0s 5ms/step - loss: 0.0512 - accuracy: 0.9915 - val_loss: 1.5601 - val_accuracy: 0.9661\n",
      "Epoch 10/100\n",
      "8/8 [==============================] - 0s 5ms/step - loss: 0.0214 - accuracy: 0.9915 - val_loss: 1.4934 - val_accuracy: 0.9661\n",
      "Epoch 11/100\n",
      "8/8 [==============================] - 0s 6ms/step - loss: 0.1386 - accuracy: 0.9872 - val_loss: 2.0636 - val_accuracy: 0.9322\n",
      "Epoch 12/100\n",
      "8/8 [==============================] - 0s 5ms/step - loss: 0.0180 - accuracy: 1.0000 - val_loss: 2.3424 - val_accuracy: 0.9322\n",
      "Epoch 13/100\n",
      "8/8 [==============================] - 0s 5ms/step - loss: 0.0204 - accuracy: 0.9957 - val_loss: 2.4236 - val_accuracy: 0.9322\n",
      "Epoch 14/100\n",
      "8/8 [==============================] - 0s 6ms/step - loss: 0.0140 - accuracy: 0.9957 - val_loss: 2.3769 - val_accuracy: 0.9492\n",
      "Epoch 15/100\n",
      "8/8 [==============================] - 0s 5ms/step - loss: 0.0089 - accuracy: 1.0000 - val_loss: 2.3361 - val_accuracy: 0.9492\n",
      "Epoch 16/100\n",
      "8/8 [==============================] - 0s 5ms/step - loss: 0.0061 - accuracy: 1.0000 - val_loss: 2.3100 - val_accuracy: 0.9492\n",
      "Epoch 17/100\n",
      "8/8 [==============================] - 0s 6ms/step - loss: 0.0083 - accuracy: 1.0000 - val_loss: 2.3597 - val_accuracy: 0.9492\n",
      "Epoch 18/100\n",
      "8/8 [==============================] - 0s 5ms/step - loss: 0.0928 - accuracy: 0.9957 - val_loss: 2.6440 - val_accuracy: 0.9153\n",
      "Epoch 19/100\n",
      "8/8 [==============================] - 0s 6ms/step - loss: 0.0278 - accuracy: 0.9957 - val_loss: 2.6132 - val_accuracy: 0.9492\n",
      "Epoch 20/100\n",
      "8/8 [==============================] - 0s 6ms/step - loss: 0.0332 - accuracy: 0.9915 - val_loss: 2.4297 - val_accuracy: 0.9492\n",
      "Epoch 21/100\n",
      "8/8 [==============================] - 0s 6ms/step - loss: 0.0080 - accuracy: 0.9957 - val_loss: 2.2102 - val_accuracy: 0.9661\n",
      "Epoch 22/100\n",
      "8/8 [==============================] - 0s 6ms/step - loss: 0.0014 - accuracy: 1.0000 - val_loss: 2.1248 - val_accuracy: 0.9661\n",
      "Epoch 23/100\n",
      "8/8 [==============================] - 0s 6ms/step - loss: 0.0041 - accuracy: 1.0000 - val_loss: 2.1227 - val_accuracy: 0.9661\n",
      "Epoch 24/100\n",
      "8/8 [==============================] - 0s 6ms/step - loss: 0.0031 - accuracy: 1.0000 - val_loss: 2.1434 - val_accuracy: 0.9661\n",
      "Epoch 25/100\n",
      "8/8 [==============================] - 0s 6ms/step - loss: 0.0057 - accuracy: 0.9957 - val_loss: 2.2023 - val_accuracy: 0.9661\n",
      "Epoch 26/100\n",
      "8/8 [==============================] - 0s 5ms/step - loss: 0.0031 - accuracy: 1.0000 - val_loss: 2.2554 - val_accuracy: 0.9661\n",
      "Epoch 27/100\n",
      "8/8 [==============================] - 0s 6ms/step - loss: 0.0021 - accuracy: 1.0000 - val_loss: 2.2840 - val_accuracy: 0.9661\n",
      "Epoch 28/100\n",
      "8/8 [==============================] - 0s 6ms/step - loss: 0.0023 - accuracy: 1.0000 - val_loss: 2.3081 - val_accuracy: 0.9661\n",
      "Epoch 29/100\n",
      "8/8 [==============================] - 0s 6ms/step - loss: 0.0021 - accuracy: 1.0000 - val_loss: 2.3129 - val_accuracy: 0.9661\n",
      "Epoch 30/100\n",
      "8/8 [==============================] - 0s 5ms/step - loss: 0.0011 - accuracy: 1.0000 - val_loss: 2.3083 - val_accuracy: 0.9661\n",
      "Epoch 31/100\n",
      "8/8 [==============================] - 0s 6ms/step - loss: 0.0026 - accuracy: 1.0000 - val_loss: 2.3072 - val_accuracy: 0.9661\n",
      "Epoch 32/100\n",
      "8/8 [==============================] - 0s 5ms/step - loss: 0.0013 - accuracy: 1.0000 - val_loss: 2.2596 - val_accuracy: 0.9661\n",
      "Epoch 33/100\n",
      "8/8 [==============================] - 0s 6ms/step - loss: 0.0019 - accuracy: 1.0000 - val_loss: 2.2163 - val_accuracy: 0.9661\n",
      "Epoch 34/100\n",
      "8/8 [==============================] - 0s 6ms/step - loss: 8.8588e-04 - accuracy: 1.0000 - val_loss: 2.1978 - val_accuracy: 0.9661\n",
      "Epoch 35/100\n",
      "8/8 [==============================] - 0s 5ms/step - loss: 0.0046 - accuracy: 0.9957 - val_loss: 2.3605 - val_accuracy: 0.9661\n",
      "Epoch 36/100\n",
      "8/8 [==============================] - 0s 6ms/step - loss: 0.0014 - accuracy: 1.0000 - val_loss: 2.8038 - val_accuracy: 0.9492\n",
      "Epoch 37/100\n",
      "8/8 [==============================] - 0s 6ms/step - loss: 0.0011 - accuracy: 1.0000 - val_loss: 2.9503 - val_accuracy: 0.9492\n",
      "Epoch 38/100\n",
      "8/8 [==============================] - 0s 5ms/step - loss: 0.3741 - accuracy: 0.9957 - val_loss: 2.6046 - val_accuracy: 0.9492\n",
      "Epoch 39/100\n",
      "8/8 [==============================] - 0s 5ms/step - loss: 7.6752e-04 - accuracy: 1.0000 - val_loss: 1.8175 - val_accuracy: 0.9661\n",
      "Epoch 40/100\n",
      "8/8 [==============================] - 0s 6ms/step - loss: 8.1893e-04 - accuracy: 1.0000 - val_loss: 1.6067 - val_accuracy: 0.9831\n",
      "Epoch 41/100\n",
      "8/8 [==============================] - 0s 5ms/step - loss: 0.0015 - accuracy: 1.0000 - val_loss: 1.5625 - val_accuracy: 0.9831\n",
      "Epoch 42/100\n",
      "8/8 [==============================] - 0s 5ms/step - loss: 0.0037 - accuracy: 0.9957 - val_loss: 1.5670 - val_accuracy: 0.9831\n",
      "Epoch 43/100\n",
      "8/8 [==============================] - 0s 6ms/step - loss: 0.0658 - accuracy: 0.9915 - val_loss: 2.2438 - val_accuracy: 0.9492\n",
      "Epoch 44/100\n",
      "8/8 [==============================] - 0s 5ms/step - loss: 0.0022 - accuracy: 1.0000 - val_loss: 2.6194 - val_accuracy: 0.9492\n",
      "Epoch 45/100\n",
      "8/8 [==============================] - 0s 6ms/step - loss: 0.0039 - accuracy: 1.0000 - val_loss: 2.6880 - val_accuracy: 0.9492\n",
      "Epoch 46/100\n",
      "8/8 [==============================] - 0s 6ms/step - loss: 0.0549 - accuracy: 0.9957 - val_loss: 1.2923 - val_accuracy: 0.9831\n",
      "Epoch 47/100\n",
      "8/8 [==============================] - 0s 6ms/step - loss: 0.0564 - accuracy: 0.9915 - val_loss: 1.3125 - val_accuracy: 0.9831\n",
      "Epoch 48/100\n",
      "8/8 [==============================] - 0s 6ms/step - loss: 0.0023 - accuracy: 1.0000 - val_loss: 2.3037 - val_accuracy: 0.9661\n",
      "Epoch 49/100\n",
      "8/8 [==============================] - 0s 6ms/step - loss: 0.0010 - accuracy: 1.0000 - val_loss: 3.1922 - val_accuracy: 0.9492\n",
      "Epoch 50/100\n",
      "8/8 [==============================] - 0s 6ms/step - loss: 0.0018 - accuracy: 1.0000 - val_loss: 3.6263 - val_accuracy: 0.9492\n",
      "Epoch 51/100\n",
      "8/8 [==============================] - 0s 6ms/step - loss: 0.0022 - accuracy: 1.0000 - val_loss: 3.7070 - val_accuracy: 0.9492\n",
      "Epoch 52/100\n",
      "8/8 [==============================] - 0s 5ms/step - loss: 0.0014 - accuracy: 1.0000 - val_loss: 3.6511 - val_accuracy: 0.9492\n",
      "Epoch 53/100\n",
      "8/8 [==============================] - 0s 6ms/step - loss: 8.1235e-04 - accuracy: 1.0000 - val_loss: 3.5824 - val_accuracy: 0.9492\n",
      "Epoch 54/100\n",
      "8/8 [==============================] - 0s 6ms/step - loss: 0.0164 - accuracy: 0.9957 - val_loss: 4.8885 - val_accuracy: 0.9322\n",
      "Epoch 55/100\n",
      "8/8 [==============================] - 0s 6ms/step - loss: 0.0182 - accuracy: 0.9915 - val_loss: 5.8900 - val_accuracy: 0.8305\n",
      "Epoch 56/100\n",
      "8/8 [==============================] - 0s 6ms/step - loss: 0.0173 - accuracy: 0.9872 - val_loss: 5.2827 - val_accuracy: 0.9322\n",
      "Epoch 57/100\n",
      "8/8 [==============================] - 0s 6ms/step - loss: 3.7234e-04 - accuracy: 1.0000 - val_loss: 4.9166 - val_accuracy: 0.9492\n",
      "Epoch 58/100\n",
      "8/8 [==============================] - 0s 6ms/step - loss: 0.0030 - accuracy: 1.0000 - val_loss: 4.8558 - val_accuracy: 0.9492\n",
      "Epoch 59/100\n",
      "8/8 [==============================] - 0s 6ms/step - loss: 7.5913e-04 - accuracy: 1.0000 - val_loss: 4.8764 - val_accuracy: 0.9492\n",
      "Epoch 60/100\n",
      "8/8 [==============================] - 0s 6ms/step - loss: 5.5300e-05 - accuracy: 1.0000 - val_loss: 4.8939 - val_accuracy: 0.9492\n",
      "Epoch 61/100\n",
      "8/8 [==============================] - 0s 5ms/step - loss: 1.1988e-04 - accuracy: 1.0000 - val_loss: 4.9010 - val_accuracy: 0.9492\n",
      "Epoch 62/100\n",
      "8/8 [==============================] - 0s 5ms/step - loss: 3.5038e-04 - accuracy: 1.0000 - val_loss: 4.9160 - val_accuracy: 0.9492\n",
      "Epoch 63/100\n",
      "8/8 [==============================] - 0s 5ms/step - loss: 2.3719e-04 - accuracy: 1.0000 - val_loss: 4.9324 - val_accuracy: 0.9492\n",
      "Epoch 64/100\n",
      "8/8 [==============================] - 0s 5ms/step - loss: 6.5384e-05 - accuracy: 1.0000 - val_loss: 4.9440 - val_accuracy: 0.9492\n",
      "Epoch 65/100\n",
      "8/8 [==============================] - 0s 6ms/step - loss: 8.7356e-05 - accuracy: 1.0000 - val_loss: 4.9432 - val_accuracy: 0.9492\n",
      "Epoch 66/100\n",
      "8/8 [==============================] - 0s 5ms/step - loss: 7.3973e-05 - accuracy: 1.0000 - val_loss: 4.9403 - val_accuracy: 0.9492\n",
      "Epoch 67/100\n",
      "8/8 [==============================] - 0s 5ms/step - loss: 8.1011e-05 - accuracy: 1.0000 - val_loss: 4.9316 - val_accuracy: 0.9492\n",
      "Epoch 68/100\n",
      "8/8 [==============================] - 0s 6ms/step - loss: 1.3592e-04 - accuracy: 1.0000 - val_loss: 4.9268 - val_accuracy: 0.9492\n",
      "Epoch 69/100\n",
      "8/8 [==============================] - 0s 5ms/step - loss: 5.5938e-05 - accuracy: 1.0000 - val_loss: 4.9249 - val_accuracy: 0.9492\n",
      "Epoch 70/100\n",
      "8/8 [==============================] - 0s 6ms/step - loss: 1.5848e-04 - accuracy: 1.0000 - val_loss: 4.9224 - val_accuracy: 0.9492\n",
      "Epoch 71/100\n",
      "8/8 [==============================] - 0s 6ms/step - loss: 8.7816e-05 - accuracy: 1.0000 - val_loss: 4.9174 - val_accuracy: 0.9492\n",
      "Epoch 72/100\n",
      "8/8 [==============================] - 0s 6ms/step - loss: 1.3094e-04 - accuracy: 1.0000 - val_loss: 4.9026 - val_accuracy: 0.9492\n",
      "Epoch 73/100\n",
      "8/8 [==============================] - 0s 6ms/step - loss: 1.3983e-04 - accuracy: 1.0000 - val_loss: 4.9260 - val_accuracy: 0.9492\n",
      "Epoch 74/100\n",
      "8/8 [==============================] - 0s 6ms/step - loss: 5.4813e-05 - accuracy: 1.0000 - val_loss: 4.9360 - val_accuracy: 0.9492\n",
      "Epoch 75/100\n",
      "8/8 [==============================] - 0s 5ms/step - loss: 4.9371e-05 - accuracy: 1.0000 - val_loss: 4.9391 - val_accuracy: 0.9492\n",
      "Epoch 76/100\n",
      "8/8 [==============================] - 0s 5ms/step - loss: 1.6254e-04 - accuracy: 1.0000 - val_loss: 4.9408 - val_accuracy: 0.9492\n",
      "Epoch 77/100\n",
      "8/8 [==============================] - 0s 6ms/step - loss: 0.0206 - accuracy: 0.9957 - val_loss: 4.2107 - val_accuracy: 0.9492\n",
      "Epoch 78/100\n",
      "8/8 [==============================] - 0s 5ms/step - loss: 0.0107 - accuracy: 0.9957 - val_loss: 2.9135 - val_accuracy: 0.9661\n",
      "Epoch 79/100\n",
      "8/8 [==============================] - 0s 6ms/step - loss: 2.8038e-05 - accuracy: 1.0000 - val_loss: 2.4704 - val_accuracy: 0.9661\n",
      "Epoch 80/100\n",
      "8/8 [==============================] - 0s 6ms/step - loss: 2.5202e-04 - accuracy: 1.0000 - val_loss: 2.2853 - val_accuracy: 0.9661\n",
      "Epoch 81/100\n",
      "8/8 [==============================] - 0s 6ms/step - loss: 2.1108e-05 - accuracy: 1.0000 - val_loss: 2.2084 - val_accuracy: 0.9661\n",
      "Epoch 82/100\n",
      "8/8 [==============================] - 0s 6ms/step - loss: 0.0012 - accuracy: 1.0000 - val_loss: 2.2136 - val_accuracy: 0.9661\n",
      "Epoch 83/100\n",
      "8/8 [==============================] - 0s 6ms/step - loss: 6.0275e-05 - accuracy: 1.0000 - val_loss: 2.2186 - val_accuracy: 0.9661\n",
      "Epoch 84/100\n",
      "8/8 [==============================] - 0s 6ms/step - loss: 0.0011 - accuracy: 1.0000 - val_loss: 2.2514 - val_accuracy: 0.9661\n",
      "Epoch 85/100\n",
      "8/8 [==============================] - 0s 6ms/step - loss: 1.9982e-05 - accuracy: 1.0000 - val_loss: 2.2876 - val_accuracy: 0.9661\n",
      "Epoch 86/100\n",
      "8/8 [==============================] - 0s 6ms/step - loss: 0.0880 - accuracy: 0.9957 - val_loss: 3.1133 - val_accuracy: 0.9661\n",
      "Epoch 87/100\n",
      "8/8 [==============================] - 0s 6ms/step - loss: 1.1217e-04 - accuracy: 1.0000 - val_loss: 3.7883 - val_accuracy: 0.9661\n",
      "Epoch 88/100\n",
      "8/8 [==============================] - 0s 5ms/step - loss: 3.7289e-04 - accuracy: 1.0000 - val_loss: 4.0877 - val_accuracy: 0.9661\n",
      "Epoch 89/100\n",
      "8/8 [==============================] - 0s 6ms/step - loss: 3.5233e-04 - accuracy: 1.0000 - val_loss: 4.2065 - val_accuracy: 0.9661\n",
      "Epoch 90/100\n",
      "8/8 [==============================] - 0s 6ms/step - loss: 3.5366e-04 - accuracy: 1.0000 - val_loss: 4.2472 - val_accuracy: 0.9661\n",
      "Epoch 91/100\n",
      "8/8 [==============================] - 0s 6ms/step - loss: 2.4400e-04 - accuracy: 1.0000 - val_loss: 4.2530 - val_accuracy: 0.9661\n",
      "Epoch 92/100\n",
      "8/8 [==============================] - 0s 6ms/step - loss: 0.0014 - accuracy: 1.0000 - val_loss: 4.2979 - val_accuracy: 0.9661\n",
      "Epoch 93/100\n",
      "8/8 [==============================] - 0s 6ms/step - loss: 4.7433e-04 - accuracy: 1.0000 - val_loss: 4.3441 - val_accuracy: 0.9661\n",
      "Epoch 94/100\n",
      "8/8 [==============================] - 0s 5ms/step - loss: 8.2466e-04 - accuracy: 1.0000 - val_loss: 4.3006 - val_accuracy: 0.9661\n",
      "Epoch 95/100\n",
      "8/8 [==============================] - 0s 6ms/step - loss: 4.2562e-04 - accuracy: 1.0000 - val_loss: 4.2484 - val_accuracy: 0.9661\n",
      "Epoch 96/100\n",
      "8/8 [==============================] - 0s 6ms/step - loss: 2.0755e-04 - accuracy: 1.0000 - val_loss: 4.2143 - val_accuracy: 0.9661\n",
      "Epoch 97/100\n",
      "8/8 [==============================] - 0s 5ms/step - loss: 4.3371e-04 - accuracy: 1.0000 - val_loss: 4.1858 - val_accuracy: 0.9661\n",
      "Epoch 98/100\n",
      "8/8 [==============================] - 0s 5ms/step - loss: 1.0842e-04 - accuracy: 1.0000 - val_loss: 4.1686 - val_accuracy: 0.9661\n",
      "Epoch 99/100\n",
      "8/8 [==============================] - 0s 6ms/step - loss: 2.3872e-04 - accuracy: 1.0000 - val_loss: 4.1560 - val_accuracy: 0.9661\n",
      "Epoch 100/100\n",
      "8/8 [==============================] - 0s 5ms/step - loss: 1.5680e-04 - accuracy: 1.0000 - val_loss: 4.1441 - val_accuracy: 0.9661\n"
     ]
    }
   ],
   "source": [
    "model.compile(loss='categorical_crossentropy', optimizer='adam', metrics=['accuracy'])\n",
    "start_time = time.time()\n",
    "history = model.fit(X_train,Y_train, epochs=100, validation_split=0.2, batch_size=30, verbose=1)\n",
    "end_time = time.time()"
   ]
  },
  {
   "cell_type": "code",
   "execution_count": 19,
   "id": "9d095c01",
   "metadata": {},
   "outputs": [
    {
     "name": "stdout",
     "output_type": "stream",
     "text": [
      "執行時間:  8.491073608398438 s\n"
     ]
    }
   ],
   "source": [
    "execution_time = (end_time - start_time)\n",
    "print(\"執行時間: \",execution_time,\"s\")"
   ]
  },
  {
   "cell_type": "code",
   "execution_count": 20,
   "id": "handmade-election",
   "metadata": {},
   "outputs": [
    {
     "data": {
      "image/png": "[encoded data removed]",
      "text/plain": [
       "<Figure size 864x288 with 2 Axes>"
      ]
     },
     "metadata": {
      "needs_background": "light"
     },
     "output_type": "display_data"
    }
   ],
   "source": [
    "f, (ax1, ax2) = plt.subplots(1, 2, figsize=(12, 4))\n",
    "t = f.suptitle('class model evaluate', fontsize=12)\n",
    "f.subplots_adjust(top=0.85, wspace=0.3)\n",
    "\n",
    "class_epoch_list = list(range(1,101))\n",
    "ax1.plot(class_epoch_list, history.history['accuracy'], label='class_Train Accuracy')\n",
    "ax1.plot(class_epoch_list, history.history['val_accuracy'], label='class_Validation Accuracy')\n",
    "ax1.set_xticks(np.arange(0, 101, 5))\n",
    "ax1.set_ylabel('class_Accuracy Value')\n",
    "ax1.set_xlabel('class_Epoch')\n",
    "ax1.set_title('class_Accuracy')\n",
    "l1 = ax1.legend(loc=\"best\")\n",
    "\n",
    "ax2.plot(class_epoch_list, history.history['loss'], label='class_Train Loss')\n",
    "ax2.plot(class_epoch_list, history.history['val_loss'], label='class_Validation Loss')\n",
    "ax2.set_xticks(np.arange(0, 101, 5))\n",
    "ax2.set_ylabel('class_Loss Value')\n",
    "ax2.set_xlabel('class_Epoch')\n",
    "ax2.set_title('class_Loss')\n",
    "l2 = ax2.legend(loc=\"best\")"
   ]
  },
  {
   "cell_type": "code",
   "execution_count": 76,
   "id": "constant-scanner",
   "metadata": {},
   "outputs": [],
   "source": [
    "#model.save('1d_cnn_ang_100epo.h5')"
   ]
  },
  {
   "cell_type": "code",
   "execution_count": 22,
   "id": "desirable-mexican",
   "metadata": {},
   "outputs": [],
   "source": [
    "modello = keras.models.load_model('1d_cnn_all_100epo.h5')"
   ]
  },
  {
   "cell_type": "code",
   "execution_count": 21,
   "id": "liable-peninsula",
   "metadata": {},
   "outputs": [],
   "source": [
    "test_dirdata1='正手測/'\n",
    "test_dirdata2='反手測/'"
   ]
  },
  {
   "cell_type": "code",
   "execution_count": 24,
   "id": "civic-lewis",
   "metadata": {},
   "outputs": [],
   "source": [
    "test_data,test_label=data_acc(test_dirdata1,test_dirdata2)"
   ]
  },
  {
   "cell_type": "code",
   "execution_count": 25,
   "id": "5848141e",
   "metadata": {},
   "outputs": [],
   "source": [
    "count,x,y=test_data.shape"
   ]
  },
  {
   "cell_type": "code",
   "execution_count": 26,
   "id": "5055b0f2",
   "metadata": {},
   "outputs": [
    {
     "data": {
      "text/plain": [
       "(260, 120, 50)"
      ]
     },
     "execution_count": 26,
     "metadata": {},
     "output_type": "execute_result"
    }
   ],
   "source": [
    "test_data.shape"
   ]
  },
  {
   "cell_type": "code",
   "execution_count": 27,
   "id": "considerable-error",
   "metadata": {},
   "outputs": [
    {
     "name": "stdout",
     "output_type": "stream",
     "text": [
      "9/9 - 0s - 182ms/epoch - 20ms/step\n"
     ]
    }
   ],
   "source": [
    "time_pre=model.predict(test_data,verbose=2)"
   ]
  },
  {
   "cell_type": "code",
   "execution_count": 28,
   "id": "revised-mining",
   "metadata": {},
   "outputs": [
    {
     "data": {
      "text/plain": [
       "array([[1., 0.],\n",
       "       [1., 0.],\n",
       "       [1., 0.]])"
      ]
     },
     "execution_count": 28,
     "metadata": {},
     "output_type": "execute_result"
    }
   ],
   "source": [
    "test_label[:3]"
   ]
  },
  {
   "cell_type": "code",
   "execution_count": 29,
   "id": "systematic-lunch",
   "metadata": {},
   "outputs": [
    {
     "data": {
      "text/plain": [
       "array([[1.0000000e+00, 3.6302834e-22],\n",
       "       [1.0000000e+00, 0.0000000e+00],\n",
       "       [1.0000000e+00, 0.0000000e+00]], dtype=float32)"
      ]
     },
     "execution_count": 29,
     "metadata": {},
     "output_type": "execute_result"
    }
   ],
   "source": [
    "time_pre[:3]"
   ]
  },
  {
   "cell_type": "code",
   "execution_count": 30,
   "id": "introductory-mumbai",
   "metadata": {},
   "outputs": [],
   "source": [
    "Y_test = np.argmax(test_label,axis=1)\n",
    "Y_pred = np.argmax(time_pre,axis=1)"
   ]
  },
  {
   "cell_type": "code",
   "execution_count": 31,
   "id": "outside-survival",
   "metadata": {},
   "outputs": [
    {
     "name": "stdout",
     "output_type": "stream",
     "text": [
      "              precision    recall  f1-score   support\n",
      "\n",
      "    forehand       0.65      0.98      0.78       115\n",
      "    backhand       0.98      0.58      0.73       145\n",
      "\n",
      "    accuracy                           0.76       260\n",
      "   macro avg       0.81      0.78      0.75       260\n",
      "weighted avg       0.83      0.76      0.75       260\n",
      "\n"
     ]
    },
    {
     "data": {
      "image/png": "[encoded data removed]",
      "text/plain": [
       "<Figure size 432x288 with 1 Axes>"
      ]
     },
     "metadata": {},
     "output_type": "display_data"
    }
   ],
   "source": [
    "mat = confusion_matrix(Y_test,Y_pred)\n",
    "\n",
    "sns.set(font_scale=1.5)\n",
    "plt.subplot(1,2,1)\n",
    "sns.heatmap(mat, square=True, annot=True, fmt='d', cbar=False)\n",
    "plt.xticks(fontsize=20)\n",
    "plt.yticks(fontsize=20)\n",
    "\n",
    "plt.ylabel('true label')\n",
    "plt.xlabel('predicted label');\n",
    "\n",
    "target_names = [\"forehand\",\"backhand\"]\n",
    "print(classification_report(Y_test,Y_pred,target_names=target_names))"
   ]
  },
  {
   "cell_type": "code",
   "execution_count": 34,
   "id": "danish-coupon",
   "metadata": {},
   "outputs": [
    {
     "data": {
      "text/plain": [
       "Text(0.5, 1.0, 'Predicted label (first 100)')"
      ]
     },
     "execution_count": 34,
     "metadata": {},
     "output_type": "execute_result"
    },
    {
     "data": {
      "image/png": "[encoded data removed]",
      "text/plain": [
       "<Figure size 288x216 with 1 Axes>"
      ]
     },
     "metadata": {},
     "output_type": "display_data"
    }
   ],
   "source": [
    "plt.figure(figsize=(4,3))\n",
    "\n",
    "\n",
    "# plt.subplot(3,1,1)\n",
    "plt.plot(time_pre[:500], color = 'red', label = 'Predicted')\n",
    "plt.plot(Y_test[:500], color = 'black', linewidth=2, label = 'True value')\n",
    "\n",
    "plt.legend(frameon=False)\n",
    "plt.ylabel(\"label forecast\")\n",
    "plt.xlabel(\"time\")\n",
    "plt.title(\"Predicted label (first 100)\")"
   ]
  },
  {
   "cell_type": "code",
   "execution_count": null,
   "id": "11c45207",
   "metadata": {},
   "outputs": [],
   "source": []
  }
 ],
 "metadata": {
  "kernelspec": {
   "display_name": "Python 3 (ipykernel)",
   "language": "python",
   "name": "python3"
  },
  "language_info": {
   "codemirror_mode": {
    "name": "ipython",
    "version": 3
   },
   "file_extension": ".py",
   "mimetype": "text/x-python",
   "name": "python",
   "nbconvert_exporter": "python",
   "pygments_lexer": "ipython3",
   "version": "3.8.11"
  }
 },
 "nbformat": 4,
 "nbformat_minor": 5
}
