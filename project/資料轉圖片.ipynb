{
 "cells": [
  {
   "cell_type": "code",
   "execution_count": 13,
   "id": "d346b272",
   "metadata": {},
   "outputs": [],
   "source": [
    "from numpy import mean\n",
    "from numpy import std\n",
    "from numpy import dstack\n",
    "from pandas import read_csv\n",
    "from matplotlib import pyplot\n",
    "from keras.models import Sequential\n",
    "from keras.layers import Dense\n",
    "from keras.layers import Flatten\n",
    "from keras.layers import Dropout\n",
    "from keras.layers.convolutional import Conv1D\n",
    "from keras.layers.convolutional import MaxPooling1D\n",
    "\n",
    "import csv\n",
    "import os\n",
    "import numpy as np\n",
    "import matplotlib.pyplot as plt\n",
    "import seaborn as sns\n",
    "from sklearn.metrics import confusion_matrix\n",
    "from sklearn.metrics import classification_report\n",
    "import keras\n",
    "import time\n",
    "import math\n",
    "import cv2"
   ]
  },
  {
   "cell_type": "code",
   "execution_count": 14,
   "id": "5f633006",
   "metadata": {},
   "outputs": [],
   "source": [
    "def acc(a):\n",
    "    a = np.array(a)\n",
    "    x,y=a.shape\n",
    "    for i in range(0,x-1):\n",
    "        for j in range(0,y):\n",
    "            a[i][j]=a[i+1][j]-a[i][j]\n",
    "    a=np.delete(a, -1, axis=0)\n",
    "    \n",
    "    return a"
   ]
  },
  {
   "cell_type": "code",
   "execution_count": 15,
   "id": "eff5e05e",
   "metadata": {},
   "outputs": [],
   "source": [
    "def res(arr,x,y):\n",
    "    zeroarray=np.zeros((1,y))\n",
    "    #print(arr.shape)\n",
    "    k=120-x+1\n",
    "    if x<=120:\n",
    "        for i in range(1,k):\n",
    "            arr = np.vstack((arr,zeroarray))      #重設矩陣大小\n",
    "    return arr"
   ]
  },
  {
   "cell_type": "code",
   "execution_count": 16,
   "id": "590e8760",
   "metadata": {},
   "outputs": [],
   "source": [
    "#運算式實作\n",
    "def change(a,x):\n",
    "    for i in range(0,50):\n",
    "        m_min=min(a[0:x,i])\n",
    "        m_max=max(a[0:x,i])\n",
    "        a[0:x,i]=(255*(a[0:x,i]-m_min)/(m_max-m_min))\n",
    "    a[np.isnan(a)] = 0\n",
    "    return a"
   ]
  },
  {
   "cell_type": "code",
   "execution_count": 17,
   "id": "0d07a791",
   "metadata": {},
   "outputs": [],
   "source": [
    "#圖片生成\n",
    "def draw_img(a,x,y):\n",
    "    img = np.zeros([x, y, 3], dtype=np.uint8)\n",
    "    for i in range(0,x-1):\n",
    "        for j in range(0,y-1):\n",
    "            img[i, j, :] = [a[i][j],a[i][j],a[i][j]]        \n",
    "\n",
    "    cv2.imshow('test',img)\n",
    "    cv2.waitKey(25)\n",
    "    cv2.destroyAllWindows()\n",
    "    \n",
    "    #print(img.shape)\n",
    "    return img"
   ]
  },
  {
   "cell_type": "code",
   "execution_count": 18,
   "id": "16f524d7",
   "metadata": {},
   "outputs": [],
   "source": [
    "dirdata1='正手訓/'\n",
    "dirdata2='AAA/'"
   ]
  },
  {
   "cell_type": "code",
   "execution_count": 19,
   "id": "1fe90b36",
   "metadata": {},
   "outputs": [
    {
     "name": "stderr",
     "output_type": "stream",
     "text": [
      "C:\\Users\\User\\AppData\\Local\\Temp/ipykernel_7576/985575415.py:6: RuntimeWarning: invalid value encountered in true_divide\n",
      "  a[0:x,i]=(255*(a[0:x,i]-m_min)/(m_max-m_min))\n"
     ]
    },
    {
     "name": "stdout",
     "output_type": "stream",
     "text": [
      "(59, 50, 3)\n",
      "F1-1.jpg\n",
      "(50, 50, 3)\n",
      "F1-2.jpg\n",
      "(50, 50, 3)\n",
      "F1-3.jpg\n",
      "(48, 50, 3)\n",
      "F1-4.jpg\n",
      "(50, 50, 3)\n",
      "F1-5.jpg\n",
      "(59, 50, 3)\n",
      "F2-2.jpg\n",
      "(50, 50, 3)\n",
      "F2-3.jpg\n",
      "(50, 50, 3)\n",
      "F2-4.jpg\n",
      "(59, 50, 3)\n",
      "F2-5.jpg\n",
      "(59, 50, 3)\n",
      "F2_1.jpg\n"
     ]
    }
   ],
   "source": [
    "data = []\n",
    "label=[]\n",
    "for i in os.listdir(dirdata2):\n",
    "    npy_file = (dirdata2+i)\n",
    "    npy_name=os.path.basename(npy_file).replace('.npy', '')\n",
    "    x=np.load(npy_file)\n",
    "    a,b=x.shape\n",
    "    x=change(x,b)\n",
    "    a,b=x.shape\n",
    "    x=draw_img(x,a,b)\n",
    "    \n",
    "    cv2.imshow('test',x)\n",
    "    cv2.waitKey(25)\n",
    "    cv2.destroyAllWindows()\n",
    "    print(x.shape)\n",
    "    img_name=npy_name+\".jpg\"\n",
    "    print(img_name)\n",
    "    cv2.imwrite(img_name, x)\n",
    "    "
   ]
  },
  {
   "cell_type": "code",
   "execution_count": null,
   "id": "2ee98903",
   "metadata": {},
   "outputs": [],
   "source": []
  },
  {
   "cell_type": "code",
   "execution_count": null,
   "id": "09d6c76c",
   "metadata": {},
   "outputs": [],
   "source": []
  }
 ],
 "metadata": {
  "kernelspec": {
   "display_name": "Python 3 (ipykernel)",
   "language": "python",
   "name": "python3"
  },
  "language_info": {
   "codemirror_mode": {
    "name": "ipython",
    "version": 3
   },
   "file_extension": ".py",
   "mimetype": "text/x-python",
   "name": "python",
   "nbconvert_exporter": "python",
   "pygments_lexer": "ipython3",
   "version": "3.8.11"
  }
 },
 "nbformat": 4,
 "nbformat_minor": 5
}
